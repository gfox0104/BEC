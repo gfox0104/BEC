{
 "cells": [
  {
   "cell_type": "code",
   "execution_count": null,
   "metadata": {},
   "outputs": [],
   "source": [
    "import tweepy\n",
    "import os\n",
    "import pandas as pd\n",
    "\n",
    "twitter_consumer_key = os.environ.get('twitter_consumer_key')\n",
    "twitter_consumer_secret = os.environ.get('twitter_consumer_secret')\n",
    "twitter_access_token = os.environ.get('twitter_access_token')\n",
    "twitter_access_token_secret = os.environ.get('twitter_access_token_secret')\n",
    "\n",
    "\n",
    "df_MP = pd.read_csv('coinpairByMarketPhase_BUSD_1d.csv')\n",
    "\n",
    "# Authenticate to Twitter\n",
    "auth = tweepy.OAuthHandler(twitter_consumer_key, twitter_consumer_secret)\n",
    "auth.set_access_token(twitter_access_token, twitter_access_token_secret)\n",
    "\n",
    "\n",
    "# Create API object\n",
    "api = tweepy.API(auth)\n",
    "\n",
    "# Create a tweet\n",
    "tweet = \"Hello, world!\"\n",
    "\n",
    "# Post the tweet\n",
    "api.update_status(tweet)\n"
   ]
  },
  {
   "cell_type": "code",
   "execution_count": null,
   "metadata": {},
   "outputs": [],
   "source": [
    "import pandas as pd\n",
    "df_MP = []\n",
    "df_MP = pd.read_csv('coinpairByMarketPhase_BUSD_1d.csv', index_col=0)\n",
    "df_MP"
   ]
  },
  {
   "cell_type": "code",
   "execution_count": null,
   "metadata": {},
   "outputs": [],
   "source": [
    "df_MP['Strength %'] = round(((df_MP['Close']-df_MP['200DSMA'])/df_MP['200DSMA'])*100, 2)\n",
    "# ((currentPrice-lBuyPrice)/lBuyPrice)*100 \n",
    "df_MP"
   ]
  },
  {
   "cell_type": "code",
   "execution_count": 65,
   "metadata": {},
   "outputs": [
    {
     "name": "stdout",
     "output_type": "stream",
     "text": [
      "Part [1/2]\n",
      "  Coinpair        Close       50DSMA      200DSMA  MarketPhase\n",
      "   ANTBUSD     2.849000     2.308180     1.922915      bullish\n",
      "  ASTRBUSD     0.047900     0.041576     0.040440      bullish\n",
      "  BANDBUSD     1.833000     1.694580     1.551065      bullish\n",
      "  CTXCBUSD     0.221500     0.187092     0.134060      bullish\n",
      "  DASHBUSD    49.470000    46.389200    44.676950      bullish\n",
      "    DFBUSD     0.044400     0.041864     0.040178      bullish\n",
      "  DOGEBUSD     0.083680     0.080248     0.075227      bullish\n",
      "   ELFBUSD     0.179900     0.158028     0.147749      bullish\n",
      "   FETBUSD     0.262800     0.147518     0.098001      bullish\n",
      "   FXSBUSD     9.961000     6.222920     5.832040      bullish\n",
      "   GTOBUSD     0.026880     0.020345     0.019754      bullish\n",
      "    IQBUSD     0.006210     0.005151     0.005119      bullish\n",
      "   LITBUSD     1.112000     0.796400     0.790695      bullish\n",
      "   LTCBUSD    87.150000    76.370400    63.162100      bullish\n",
      "  MASKBUSD     2.895000     2.651300     2.059460      bullish\n",
      " MATICBUSD     0.948000     0.868454     0.860759      bullish\n",
      " MULTIBUSD     8.720000     5.302200     4.614700      bullish\n",
      " OCEANBUSD     0.345600     0.204686     0.176671      bullish\n",
      "    OPBUSD     1.992000     1.257020     1.105780      bullish\n",
      "  PAXGBUSD  1905.000000  1839.640000  1742.310000      bullish\n",
      "   SFPBUSD     0.430400     0.422964     0.404726      bullish\n",
      "   TKOBUSD     0.290200     0.282302     0.270585      bullish\n",
      "   UFTBUSD     0.309000     0.300384     0.275897      bullish\n",
      "   XMRBUSD   167.800000   155.370000   148.760500      bullish\n",
      "  AAVEBUSD    80.100000    63.712000    76.858500 accumulation\n",
      "   ADXBUSD     0.195600     0.130986     0.154521 accumulation\n",
      " AERGOBUSD     0.126600     0.102630     0.124811 accumulation\n",
      "ALPACABUSD     0.270600     0.257738     0.265651 accumulation\n",
      " ALPHABUSD     0.150700     0.091822     0.112166 accumulation\n",
      "   APEBUSD     5.438000     4.257860     4.819681 accumulation\n",
      "  ARPABUSD     0.033690     0.028860     0.033310 accumulation\n",
      "  ATOMBUSD    12.648000    10.447020    11.456620 accumulation\n",
      " AUDIOBUSD     0.266600     0.155426     0.226869 accumulation\n",
      "  AUTOBUSD   285.000000   243.752000   258.580000 accumulation\n",
      "   BALBUSD     6.685000     5.872340     5.923430 accumulation\n",
      "   BCHBUSD   128.700000   109.506000   115.976500 accumulation\n",
      "  BIFIBUSD   428.100000   365.736000   375.857000 accumulation\n",
      "   BNBBUSD   300.200000   269.756000   281.348500 accumulation\n",
      "   BTCBUSD 22588.640000 18225.008800 19603.538500 accumulation\n",
      "  CELRBUSD     0.015620     0.011633     0.015202 accumulation\n",
      "   CKBBUSD     0.003590     0.002656     0.003455 accumulation\n",
      "  COMPBUSD    48.990000    38.575600    48.281500 accumulation\n",
      "  COTIBUSD     0.100000     0.065608     0.089594 accumulation\n",
      "   CRVBUSD     0.995000     0.668920     0.909585 accumulation\n",
      "  CTSIBUSD     0.141600     0.114956     0.134937 accumulation\n",
      "   CVPBUSD     0.366800     0.343420     0.363943 accumulation\n",
      "  DATABUSD     0.032250     0.026183     0.029904 accumulation\n",
      "  DEGOBUSD     1.850000     1.697560     1.801360 accumulation\n",
      "   DGBBUSD     0.010370     0.008557     0.009338 accumulation\n",
      "  DUSKBUSD     0.124600     0.091008     0.115067 accumulation\n",
      "  DYDXBUSD     1.705000     1.379900     1.660070 accumulation\n",
      "   ETHBUSD  1544.090000  1330.582600  1422.095600 accumulation\n",
      "   FISBUSD     0.438300     0.336182     0.343384 accumulation\n",
      "   FTMBUSD     0.400600     0.251580     0.256348 accumulation\n",
      "  GALABUSD     0.047320     0.029635     0.040164 accumulation\n",
      "   GRTBUSD     0.090300     0.067454     0.088761 accumulation\n",
      "  HBARBUSD     0.064000     0.047598     0.058113 accumulation\n",
      "   HOTBUSD     0.001962     0.001644     0.001933 accumulation\n",
      "   ICPBUSD     5.599000     4.315440     5.518820 accumulation\n",
      "   IMXBUSD     0.693000     0.479980     0.682760 accumulation\n",
      "   INJBUSD     1.853000     1.490060     1.655935 accumulation\n",
      "  IOTXBUSD     0.028700     0.023361     0.027737 accumulation\n",
      "   LDOBUSD     2.275000     1.456560     1.608360 accumulation\n",
      "   LTOBUSD     0.096700     0.074372    \n",
      "Part [2/2]\n",
      " 0.083605 accumulation\n",
      "  LUNABUSD     2.098000     1.573976     2.030833 accumulation\n",
      "  MANABUSD     0.657100     0.430338     0.649953 accumulation\n",
      "   MDXBUSD     0.095000     0.078170     0.088488 accumulation\n",
      "   MOBBUSD     1.097000     0.971060     0.978825 accumulation\n",
      "  NEXOBUSD     0.810000     0.697100     0.803525 accumulation\n",
      "   NKNBUSD     0.097500     0.087798     0.093432 accumulation\n",
      "   NMRBUSD    16.300000    14.114000    15.328850 accumulation\n",
      "  NULSBUSD     0.233500     0.201958     0.207967 accumulation\n",
      "   ONEBUSD     0.018660     0.013280     0.018193 accumulation\n",
      "PEOPLEBUSD     0.025780     0.022898     0.023641 accumulation\n",
      "   PHABUSD     0.152000     0.127754     0.129999 accumulation\n",
      "   PYRBUSD     3.860000     3.224000     3.631950 accumulation\n",
      "   QNTBUSD   154.200000   120.018000   121.873500 accumulation\n",
      "  RNDRBUSD     0.857000     0.499880     0.531940 accumulation\n",
      "  SHIBBUSD     0.000011     0.000009     0.000011 accumulation\n",
      "   SYSBUSD     0.150000     0.114040     0.143288 accumulation\n",
      "     TBUSD     0.052410     0.019729     0.027326 accumulation\n",
      "  WBTCBUSD 22502.390000 18205.387200 19591.624300 accumulation\n",
      "   WOOBUSD     0.183100     0.145344     0.157809 accumulation\n",
      "   XRPBUSD     0.405300     0.368826     0.390861 accumulation\n",
      "   XVSBUSD     5.180000     4.268600     4.826900 accumulation\n"
     ]
    }
   ],
   "source": [
    "# message = '  Coinpair        Close       50DSMA      200DSMA  MarketPhase\\n  AAVEBUSD    80.100000    63.712000    76.858500 accumulation\\n  AAVEBUSD    80.100000    63.712000    76.858500 accumulation\\n  AAVEBUSD    80.100000    63.712000    76.858500 accumulation\\n  AAVEBUSD    80.100000    63.712000    76.858500 accumulation\\n  AAVEBUSD    80.100000    63.712000    76.858500 accumulation\\n  ABUSD    80.100000    63.712000    76.858500 accumulation\\n  AAVEBUSD    80.100000    63.712000    76.858500 accumulation\\n   ADXBUSD     0.195600     0.130986     0.154521 accumulation\\n AERGOBUSD     0.126600     0.102630     0.124811 accumulation\\nALPACABUSD     0.270600     0.257738     0.265651 accumulation\\n ALPHABUSD     0.150700     0.091822     0.112166 accumulation\\n   APEBUSD     5.438000     4.257860     4.819681 accumulation\\n  ARPABUSD     0.033690     0.028860     0.033310 accumulation\\n  ATOMBUSD    12.648000    10.447020    11.456620 accumulation\\n AUDIOBUSD     0.266600     0.155426     0.226869 accumulation\\n  AUTOBUSD   285.000000   243.752000   258.580000 accumulation\\n   BALBUSD     6.685000     5.872340     5.923430 accumulation\\n   BCHBUSD   128.700000   109.506000   115.976500 accumulation\\n  BIFIBUSD   428.100000   365.736000   375.857000 accumulation\\n   BNBBUSD   300.200000   269.756000   281.348500 accumulation\\n   BTCBUSD 22588.640000 18225.008800 19603.538500 accumulation\\n  CELRBUSD     0.015620     0.011633     0.015202 accumulation\\n   CKBBUSD     0.003590     0.002656     0.003455 accumulation\\n  COMPBUSD    48.990000    38.575600    48.281500 accumulation\\n  COTIBUSD     0.100000     0.065608     0.089595 accumulation\\n   CRVBUSD     0.995000     0.668920     0.909585 accumulation\\n  CTSIBUSD     0.141600     0.114956     0.134938 accumulation\\n   CVPBUSD     0.366800     0.343420     0.363944 accumulation\\n  DATABUSD     0.032250     0.026183     0.029904 accumulation\\n  DEGOBUSD     1.850000     1.697560     1.801360 accumulation\\n   DGBBUSD     0.010370     0.008557     0.009338 accumulation\\n  DUSKBUSD     0.124600     0.091008     0.115067 accumulation\\n  DYDXBUSD     1.705000     1.379900     1.660070 accumulation\\n   ETHBUSD  1544.090000  1330.582600  1422.095600 accumulation\\n   FISBUSD     0.438300     0.336182     0.343384 accumulation\\n   FTMBUSD     0.400600     0.251580     0.256348 accumulation\\n  GALABUSD     0.047320     0.029635     0.040164 accumulation\\n   GRTBUSD     0.090300     0.067454     0.088761 accumulation\\n  HBARBUSD     0.064000     0.047598     0.058113 accumulation\\n   HOTBUSD     0.001962     0.001644     0.001933 accumulation\\n   ICPBUSD     5.599000     4.315440     5.518820 accumulation\\n   IMXBUSD     0.693000     0.479980     0.682760 accumulation\\n   INJBUSD     1.853000     1.490060     1.655935 accumulation\\n  IOTXBUSD     0.028700     0.023361     0.027738 accumulation\\n   LDOBUSD     2.275000     1.456560     1.608360 accumulation\\n   LTOBUSD     0.096700     0.074372     0.083605 accumulation\\n  LUNABUSD     2.098000     1.573976     2.030833 accumulation\\n  MANABUSD     0.657100     0.430338     0.649953 accumulation\\n   MDXBUSD     0.095000     0.078170     0.088489 accumulation\\n   MOBBUSD     1.097000     0.971060     0.978825 accumulation\\n  NEXOBUSD     0.810000     0.697100     0.803525 accumulation\\n   NKNBUSD     0.097500     0.087798     0.093432 accumulation\\n   NMRBUSD    16.300000    14.114000    15.328850 accumulation\\n  NULSBUSD     0.233500     0.201958     0.207967 accumulation\\n   ONEBUSD     0.018660     0.013280     0.018193 accumulation\\nPEOPLEBUSD     0.025780     0.022898     0.023641 accumulation\\n   PHABUSD     0.152000     0.127754     0.129999 accumulation\\n   PYRBUSD     3.860000     3.224000     3.631950 accumulation\\n   QNTBUSD   154.200000   120.018000   121.873500 accumulation\\n  RNDRBUSD     0.857000     0.499880     0.531940 accumulation\\n  SHIBBUSD     0.000011     0.000009     0.000011 accumulation\\n   SYSBUSD     0.150000     0.114040     0.143288 accumulation\\n     TBUSD     0.052410     0.019729     0.027326 accumulation\\n  WBTCBUSD 22502.390000 18205.387200 19591.624300 accumulation\\n   WOOBUSD     0.183100     0.145344     0.157809 accumulation\\n   XRPBUSD     0.405300     0.368826     0.390862 accumulation\\n   XVSBUSD     5.180000     4.268600     4.826900 accumulation'\n",
    "message = pd.read_csv('coinpairByMarketPhase_BUSD_1d.csv', index_col=0)\n",
    "# auto_page_message(message.to_string(index=False))\n",
    "sendTelegramMessage(message.to_string(index=False))"
   ]
  }
 ],
 "metadata": {
  "kernelspec": {
   "display_name": "Python 3",
   "language": "python",
   "name": "python3"
  },
  "language_info": {
   "codemirror_mode": {
    "name": "ipython",
    "version": 3
   },
   "file_extension": ".py",
   "mimetype": "text/x-python",
   "name": "python",
   "nbconvert_exporter": "python",
   "pygments_lexer": "ipython3",
   "version": "3.10.6 (main, Nov 14 2022, 16:10:14) [GCC 11.3.0]"
  },
  "orig_nbformat": 4,
  "vscode": {
   "interpreter": {
    "hash": "916dbcbb3f70747c44a77c7bcd40155683ae19c65e1c03b4aa3499c5328201f1"
   }
  }
 },
 "nbformat": 4,
 "nbformat_minor": 2
}
