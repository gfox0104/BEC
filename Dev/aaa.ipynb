{
 "cells": [
  {
   "cell_type": "code",
   "execution_count": 2,
   "metadata": {},
   "outputs": [],
   "source": [
    "import requests \n",
    "import os\n",
    "import logging\n",
    "\n",
    "# use log file to store error messages\n",
    "logging.basicConfig(filename='error.log', level=logging.INFO,\n",
    "                    format='%(asctime)s %(message)s', datefmt='%Y/%m/%d %I:%M:%S %p')\n",
    "\n",
    "\n",
    "telegram_chat_id = os.environ.get('telegram_chat_id')\n",
    "telegramToken = os.environ.get('telegramToken1d') \n",
    "    \n",
    "lmsg = \"testes3\"\n",
    "\n",
    "params = {\n",
    "\"chat_id\": telegram_chat_id,\n",
    "\"text\": lmsg,\n",
    "\"parse_mode\": \"HTML2\",\n",
    "}\n",
    "try: \n",
    "    resp = requests.post(\"https://api.telegram.org/bot{}/sendMessage\".format(telegramToken), params=params).json()\n",
    "\n",
    "except requests.exceptions.RequestException as e:\n",
    "    logging.exception(f\"Request to telegram failed: {e}\")"
   ]
  },
  {
   "cell_type": "code",
   "execution_count": 3,
   "metadata": {},
   "outputs": [
    {
     "data": {
      "text/plain": [
       "{'ok': False,\n",
       " 'error_code': 400,\n",
       " 'description': 'Bad Request: unsupported parse_mode'}"
      ]
     },
     "execution_count": 3,
     "metadata": {},
     "output_type": "execute_result"
    }
   ],
   "source": [
    "resp"
   ]
  }
 ],
 "metadata": {
  "kernelspec": {
   "display_name": "Python 3",
   "language": "python",
   "name": "python3"
  },
  "language_info": {
   "codemirror_mode": {
    "name": "ipython",
    "version": 3
   },
   "file_extension": ".py",
   "mimetype": "text/x-python",
   "name": "python",
   "nbconvert_exporter": "python",
   "pygments_lexer": "ipython3",
   "version": "3.10.6 (main, Nov 14 2022, 16:10:14) [GCC 11.3.0]"
  },
  "orig_nbformat": 4,
  "vscode": {
   "interpreter": {
    "hash": "916dbcbb3f70747c44a77c7bcd40155683ae19c65e1c03b4aa3499c5328201f1"
   }
  }
 },
 "nbformat": 4,
 "nbformat_minor": 2
}
