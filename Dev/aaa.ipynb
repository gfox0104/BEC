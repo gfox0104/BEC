{
 "cells": [
  {
   "cell_type": "code",
   "execution_count": 73,
   "metadata": {},
   "outputs": [],
   "source": [
    "import requests \n",
    "import os\n",
    "import logging\n",
    "import sys\n",
    "# from telegram.error import BadRequest, NetworkError, TelegramError\n",
    "\n",
    "# use log file to store error messages\n",
    "logging.basicConfig(filename='error_test.log', level=logging.INFO,\n",
    "                    format='%(asctime)s %(message)s', datefmt='%Y-%m-%d %I:%M:%S %p')\n",
    "\n",
    "\n",
    "telegram_chat_id = os.environ.get('telegram_chat_id')\n",
    "telegramToken = os.environ.get('telegramToken1d') \n",
    "\n",
    "def telegram_send_message():    \n",
    "    lmsg = \"telegram_send_message\"\n",
    "\n",
    "    params = {\n",
    "    \"chat_id\": telegram_chat_id,\n",
    "    \"text\": lmsg,\n",
    "    \"parse_mode\": \"HTML2\",\n",
    "    }\n",
    "    try:\n",
    "        resp = requests.post(\"https://api.telegram.org/bot{}/sendMessage\".format(telegramToken), params=params)\n",
    "        resp.raise_for_status()\n",
    "\n",
    "    except requests.exceptions.HTTPError as errh:\n",
    "        msg = sys._getframe(  ).f_code.co_name+\" - An Http Error occurred:\" + repr(errh)\n",
    "        print(msg)\n",
    "        logging.exception(msg)\n",
    "    except requests.exceptions.ConnectionError as errc:\n",
    "        msg = sys._getframe(  ).f_code.co_name+\" - An Error Connecting to the API occurred:\" + repr(errc)\n",
    "        print(msg)\n",
    "        logging.exception(msg)\n",
    "    except requests.exceptions.Timeout as errt:\n",
    "        msg = sys._getframe(  ).f_code.co_name+\" - A Timeout Error occurred:\" + repr(errt)\n",
    "        print(msg)\n",
    "        logging.exception(msg)\n",
    "    except requests.exceptions.RequestException as err:\n",
    "        msg = sys._getframe(  ).f_code.co_name+\" - An Unknown Error occurred\" + repr(err)\n",
    "        print(msg)\n",
    "        logging.exception(msg)"
   ]
  },
  {
   "cell_type": "code",
   "execution_count": 74,
   "metadata": {},
   "outputs": [
    {
     "name": "stdout",
     "output_type": "stream",
     "text": [
      "telegram_send_message - An Http Error occurred:HTTPError('400 Client Error: Bad Request for url: https://api.telegram.org/bot5791916657:AAF7DPD1tkco53NOlj0fLY7Jg43EHBZWLME/sendMessage?chat_id=1144450791&text=telegram_send_message&parse_mode=HTML2')\n"
     ]
    }
   ],
   "source": [
    "telegram_send_message()"
   ]
  },
  {
   "cell_type": "code",
   "execution_count": 1,
   "metadata": {},
   "outputs": [],
   "source": [
    "def test_message(msg):\n",
    "    print(msg)\n",
    "    msg = \"nova mensagem\"\n",
    "    print(msg)\n"
   ]
  },
  {
   "cell_type": "code",
   "execution_count": 2,
   "metadata": {},
   "outputs": [
    {
     "name": "stdout",
     "output_type": "stream",
     "text": [
      "novo teste\n",
      "nova mensagem\n"
     ]
    }
   ],
   "source": [
    "test_message(\"novo teste\")"
   ]
  },
  {
   "cell_type": "code",
   "execution_count": 9,
   "metadata": {},
   "outputs": [
    {
     "data": {
      "text/plain": [
       "0     ANTBUSD\n",
       "2     CVXBUSD\n",
       "3     ENSBUSD\n",
       "5     FTMBUSD\n",
       "6    MASKBUSD\n",
       "8     XMRBUSD\n",
       "Name: Currency, dtype: object"
      ]
     },
     "execution_count": 9,
     "metadata": {},
     "output_type": "execute_result"
    }
   ],
   "source": [
    "import pandas as pd\n",
    "df_open_positions_1h = pd.read_csv('positions1h.csv')\n",
    "df_open_positions_1h = df_open_positions_1h[df_open_positions_1h.position == 1].Currency\n",
    "df_open_positions_1h"
   ]
  },
  {
   "cell_type": "code",
   "execution_count": 10,
   "metadata": {},
   "outputs": [
    {
     "data": {
      "text/plain": [
       "0     ANTBUSD\n",
       "1     CVXBUSD\n",
       "2     ENSBUSD\n",
       "3     FTMBUSD\n",
       "4    MASKBUSD\n",
       "5     XMRBUSD\n",
       "Name: Currency, dtype: object"
      ]
     },
     "execution_count": 10,
     "metadata": {},
     "output_type": "execute_result"
    }
   ],
   "source": [
    "df = df_open_positions_1h.reset_index(drop=True)\n",
    "df"
   ]
  }
 ],
 "metadata": {
  "kernelspec": {
   "display_name": "Python 3",
   "language": "python",
   "name": "python3"
  },
  "language_info": {
   "codemirror_mode": {
    "name": "ipython",
    "version": 3
   },
   "file_extension": ".py",
   "mimetype": "text/x-python",
   "name": "python",
   "nbconvert_exporter": "python",
   "pygments_lexer": "ipython3",
   "version": "3.10.6"
  },
  "orig_nbformat": 4,
  "vscode": {
   "interpreter": {
    "hash": "916dbcbb3f70747c44a77c7bcd40155683ae19c65e1c03b4aa3499c5328201f1"
   }
  }
 },
 "nbformat": 4,
 "nbformat_minor": 2
}
