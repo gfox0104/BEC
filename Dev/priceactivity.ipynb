{
 "cells": [
  {
   "cell_type": "code",
   "execution_count": 1,
   "metadata": {},
   "outputs": [
    {
     "ename": "Forbidden",
     "evalue": "403 Forbidden\n453 - You currently have Essential access which includes access to Twitter API v2 endpoints only. If you need access to this endpoint, you’ll need to apply for Elevated access via the Developer Portal. You can learn more here: https://developer.twitter.com/en/docs/twitter-api/getting-started/about-twitter-api#v2-access-leve",
     "output_type": "error",
     "traceback": [
      "\u001b[0;31m---------------------------------------------------------------------------\u001b[0m",
      "\u001b[0;31mForbidden\u001b[0m                                 Traceback (most recent call last)",
      "Cell \u001b[0;32mIn [1], line 18\u001b[0m\n\u001b[1;32m     12\u001b[0m auth \u001b[39m=\u001b[39m tweepy\u001b[39m.\u001b[39mOAuth1UserHandler(\n\u001b[1;32m     13\u001b[0m    twitter_consumer_key, twitter_consumer_secret,\n\u001b[1;32m     14\u001b[0m    twitter_access_token, twitter_access_token_secret\n\u001b[1;32m     15\u001b[0m )\n\u001b[1;32m     16\u001b[0m api \u001b[39m=\u001b[39m tweepy\u001b[39m.\u001b[39mAPI(auth)\n\u001b[0;32m---> 18\u001b[0m api\u001b[39m.\u001b[39;49mupdate_status(\u001b[39m\"\u001b[39;49m\u001b[39mThis Tweet was Tweeted using Tweepy!\u001b[39;49m\u001b[39m\"\u001b[39;49m)\n\u001b[1;32m     20\u001b[0m \u001b[39m# client = tweepy.Client(\u001b[39;00m\n\u001b[1;32m     21\u001b[0m \u001b[39m#     consumer_key=twitter_consumer_key, consumer_secret=twitter_consumer_secret,\u001b[39;00m\n\u001b[1;32m     22\u001b[0m \u001b[39m#     access_token=twitter_access_token, access_token_secret=twitter_access_token_secret\u001b[39;00m\n\u001b[0;32m   (...)\u001b[0m\n\u001b[1;32m     38\u001b[0m \u001b[39m# )\u001b[39;00m\n\u001b[1;32m     39\u001b[0m \u001b[39m# print(f\"https://twitter.com/user/status/{response.data['id']}\")\u001b[39;00m\n",
      "File \u001b[0;32m~/.local/lib/python3.10/site-packages/tweepy/api.py:46\u001b[0m, in \u001b[0;36mpayload.<locals>.decorator.<locals>.wrapper\u001b[0;34m(*args, **kwargs)\u001b[0m\n\u001b[1;32m     44\u001b[0m kwargs[\u001b[39m'\u001b[39m\u001b[39mpayload_list\u001b[39m\u001b[39m'\u001b[39m] \u001b[39m=\u001b[39m payload_list\n\u001b[1;32m     45\u001b[0m kwargs[\u001b[39m'\u001b[39m\u001b[39mpayload_type\u001b[39m\u001b[39m'\u001b[39m] \u001b[39m=\u001b[39m payload_type\n\u001b[0;32m---> 46\u001b[0m \u001b[39mreturn\u001b[39;00m method(\u001b[39m*\u001b[39;49margs, \u001b[39m*\u001b[39;49m\u001b[39m*\u001b[39;49mkwargs)\n",
      "File \u001b[0;32m~/.local/lib/python3.10/site-packages/tweepy/api.py:1142\u001b[0m, in \u001b[0;36mAPI.update_status\u001b[0;34m(self, status, **kwargs)\u001b[0m\n\u001b[1;32m   1139\u001b[0m \u001b[39mif\u001b[39;00m \u001b[39m'\u001b[39m\u001b[39mmedia_ids\u001b[39m\u001b[39m'\u001b[39m \u001b[39min\u001b[39;00m kwargs:\n\u001b[1;32m   1140\u001b[0m     kwargs[\u001b[39m'\u001b[39m\u001b[39mmedia_ids\u001b[39m\u001b[39m'\u001b[39m] \u001b[39m=\u001b[39m list_to_csv(kwargs[\u001b[39m'\u001b[39m\u001b[39mmedia_ids\u001b[39m\u001b[39m'\u001b[39m])\n\u001b[0;32m-> 1142\u001b[0m \u001b[39mreturn\u001b[39;00m \u001b[39mself\u001b[39;49m\u001b[39m.\u001b[39;49mrequest(\n\u001b[1;32m   1143\u001b[0m     \u001b[39m'\u001b[39;49m\u001b[39mPOST\u001b[39;49m\u001b[39m'\u001b[39;49m, \u001b[39m'\u001b[39;49m\u001b[39mstatuses/update\u001b[39;49m\u001b[39m'\u001b[39;49m, endpoint_parameters\u001b[39m=\u001b[39;49m(\n\u001b[1;32m   1144\u001b[0m         \u001b[39m'\u001b[39;49m\u001b[39mstatus\u001b[39;49m\u001b[39m'\u001b[39;49m, \u001b[39m'\u001b[39;49m\u001b[39min_reply_to_status_id\u001b[39;49m\u001b[39m'\u001b[39;49m,\n\u001b[1;32m   1145\u001b[0m         \u001b[39m'\u001b[39;49m\u001b[39mauto_populate_reply_metadata\u001b[39;49m\u001b[39m'\u001b[39;49m, \u001b[39m'\u001b[39;49m\u001b[39mexclude_reply_user_ids\u001b[39;49m\u001b[39m'\u001b[39;49m,\n\u001b[1;32m   1146\u001b[0m         \u001b[39m'\u001b[39;49m\u001b[39mattachment_url\u001b[39;49m\u001b[39m'\u001b[39;49m, \u001b[39m'\u001b[39;49m\u001b[39mmedia_ids\u001b[39;49m\u001b[39m'\u001b[39;49m, \u001b[39m'\u001b[39;49m\u001b[39mpossibly_sensitive\u001b[39;49m\u001b[39m'\u001b[39;49m, \u001b[39m'\u001b[39;49m\u001b[39mlat\u001b[39;49m\u001b[39m'\u001b[39;49m,\n\u001b[1;32m   1147\u001b[0m         \u001b[39m'\u001b[39;49m\u001b[39mlong\u001b[39;49m\u001b[39m'\u001b[39;49m, \u001b[39m'\u001b[39;49m\u001b[39mplace_id\u001b[39;49m\u001b[39m'\u001b[39;49m, \u001b[39m'\u001b[39;49m\u001b[39mdisplay_coordinates\u001b[39;49m\u001b[39m'\u001b[39;49m, \u001b[39m'\u001b[39;49m\u001b[39mtrim_user\u001b[39;49m\u001b[39m'\u001b[39;49m,\n\u001b[1;32m   1148\u001b[0m         \u001b[39m'\u001b[39;49m\u001b[39mcard_uri\u001b[39;49m\u001b[39m'\u001b[39;49m\n\u001b[1;32m   1149\u001b[0m     ), status\u001b[39m=\u001b[39;49mstatus, \u001b[39m*\u001b[39;49m\u001b[39m*\u001b[39;49mkwargs\n\u001b[1;32m   1150\u001b[0m )\n",
      "File \u001b[0;32m~/.local/lib/python3.10/site-packages/tweepy/api.py:265\u001b[0m, in \u001b[0;36mAPI.request\u001b[0;34m(self, method, endpoint, endpoint_parameters, params, headers, json_payload, parser, payload_list, payload_type, post_data, files, require_auth, return_cursors, upload_api, use_cache, **kwargs)\u001b[0m\n\u001b[1;32m    263\u001b[0m     \u001b[39mraise\u001b[39;00m Unauthorized(resp)\n\u001b[1;32m    264\u001b[0m \u001b[39mif\u001b[39;00m resp\u001b[39m.\u001b[39mstatus_code \u001b[39m==\u001b[39m \u001b[39m403\u001b[39m:\n\u001b[0;32m--> 265\u001b[0m     \u001b[39mraise\u001b[39;00m Forbidden(resp)\n\u001b[1;32m    266\u001b[0m \u001b[39mif\u001b[39;00m resp\u001b[39m.\u001b[39mstatus_code \u001b[39m==\u001b[39m \u001b[39m404\u001b[39m:\n\u001b[1;32m    267\u001b[0m     \u001b[39mraise\u001b[39;00m NotFound(resp)\n",
      "\u001b[0;31mForbidden\u001b[0m: 403 Forbidden\n453 - You currently have Essential access which includes access to Twitter API v2 endpoints only. If you need access to this endpoint, you’ll need to apply for Elevated access via the Developer Portal. You can learn more here: https://developer.twitter.com/en/docs/twitter-api/getting-started/about-twitter-api#v2-access-leve"
     ]
    }
   ],
   "source": [
    "import tweepy\n",
    "import os\n",
    "\n",
    "\n",
    "twitter_consumer_key = os.environ.get('twitter_consumer_key')\n",
    "twitter_consumer_secret = os.environ.get('twitter_consumer_secret')\n",
    "twitter_access_token = os.environ.get('twitter_access_token')\n",
    "twitter_access_token_secret = os.environ.get('twitter_access_token_secret')\n",
    "\n",
    "import tweepy\n",
    "\n",
    "auth = tweepy.OAuth1UserHandler(\n",
    "   twitter_consumer_key, twitter_consumer_secret,\n",
    "   twitter_access_token, twitter_access_token_secret\n",
    ")\n",
    "api = tweepy.API(auth)\n",
    "\n",
    "api.update_status(\"This Tweet was Tweeted using Tweepy!\")\n",
    "\n",
    "# client = tweepy.Client(\n",
    "#     consumer_key=twitter_consumer_key, consumer_secret=twitter_consumer_secret,\n",
    "#     access_token=twitter_access_token, access_token_secret=twitter_access_token_secret\n",
    "# )\n",
    "\n",
    "# Create Tweet\n",
    "\n",
    "# The app and the corresponding credentials must have the Write permission\n",
    "\n",
    "# Check the App permissions section of the Settings tab of your app, under the\n",
    "# Twitter Developer Portal Projects & Apps page at\n",
    "# https://developer.twitter.com/en/portal/projects-and-apps\n",
    "\n",
    "# Make sure to reauthorize your app / regenerate your access token and secret \n",
    "# after setting the Write permission\n",
    "\n",
    "# response = client.create_tweet(\n",
    "#     text=\"This Tweet was Tweeted using Tweepy and Twitter API v2!\"\n",
    "# )\n",
    "# print(f\"https://twitter.com/user/status/{response.data['id']}\")"
   ]
  },
  {
   "cell_type": "code",
   "execution_count": null,
   "metadata": {},
   "outputs": [],
   "source": []
  }
 ],
 "metadata": {
  "kernelspec": {
   "display_name": "Python 3",
   "language": "python",
   "name": "python3"
  },
  "language_info": {
   "codemirror_mode": {
    "name": "ipython",
    "version": 3
   },
   "file_extension": ".py",
   "mimetype": "text/x-python",
   "name": "python",
   "nbconvert_exporter": "python",
   "pygments_lexer": "ipython3",
   "version": "3.10.6 (main, Nov 14 2022, 16:10:14) [GCC 11.3.0]"
  },
  "orig_nbformat": 4,
  "vscode": {
   "interpreter": {
    "hash": "916dbcbb3f70747c44a77c7bcd40155683ae19c65e1c03b4aa3499c5328201f1"
   }
  }
 },
 "nbformat": 4,
 "nbformat_minor": 2
}
