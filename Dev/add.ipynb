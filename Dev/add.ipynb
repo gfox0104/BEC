{
 "cells": [
  {
   "cell_type": "code",
   "execution_count": 2,
   "metadata": {},
   "outputs": [],
   "source": [
    "import addCoinPair\n",
    "# import pandas as pd"
   ]
  },
  {
   "cell_type": "code",
   "execution_count": 3,
   "metadata": {},
   "outputs": [
    {
     "name": "stdout",
     "output_type": "stream",
     "text": [
      "Backtest - BANDBUSD - 1d - Start\n",
      "coinPair =  BANDBUSD\n"
     ]
    },
    {
     "name": "stderr",
     "output_type": "stream",
     "text": [
      "/home/joaosilva/.local/lib/python3.10/site-packages/backtesting/backtesting.py:1488: UserWarning: Searching for best of 3725 configurations.\n",
      "  output = _optimize_grid()\n"
     ]
    },
    {
     "name": "stdout",
     "output_type": "stream",
     "text": [
      "n1= 3\n",
      "n2= 32\n",
      "Return [%] =  -11.22\n",
      "Buy & Hold Return [%] =  -87.75\n",
      "linha= 12\n",
      "Saving Coin Pair to coinpairBestEma file\n",
      "Backtest BANDBUSD - 1d - End\n",
      "Add Coin pair - BANDBUSD - 1d - run successfully\n",
      "Backtest - BANDBUSD - 4h - Start\n",
      "coinPair =  BANDBUSD\n"
     ]
    },
    {
     "name": "stderr",
     "output_type": "stream",
     "text": [
      "/home/joaosilva/.local/lib/python3.10/site-packages/backtesting/backtesting.py:1488: UserWarning: Searching for best of 3725 configurations.\n",
      "  output = _optimize_grid()\n"
     ]
    },
    {
     "name": "stdout",
     "output_type": "stream",
     "text": [
      "n1= 29\n",
      "n2= 190\n",
      "Return [%] =  -20.48\n",
      "Buy & Hold Return [%] =  -87.52\n",
      "linha= 13\n",
      "Saving Coin Pair to coinpairBestEma file\n",
      "Backtest BANDBUSD - 4h - End\n",
      "Add Coin pair - BANDBUSD - 4h - run successfully\n",
      "Backtest - BANDBUSD - 1h - Start\n",
      "coinPair =  BANDBUSD\n"
     ]
    },
    {
     "name": "stderr",
     "output_type": "stream",
     "text": [
      "/home/joaosilva/.local/lib/python3.10/site-packages/backtesting/backtesting.py:1488: UserWarning: Searching for best of 3725 configurations.\n",
      "  output = _optimize_grid()\n"
     ]
    },
    {
     "name": "stdout",
     "output_type": "stream",
     "text": [
      "n1= 63\n",
      "n2= 98\n",
      "Return [%] =  -49.34\n",
      "Buy & Hold Return [%] =  -87.83\n",
      "linha= 14\n",
      "Saving Coin Pair to coinpairBestEma file\n",
      "Backtest BANDBUSD - 1h - End\n",
      "Add Coin pair - BANDBUSD - 1h - run successfully\n",
      "Mark coin BANDBUSD as Completed to addcoinpair file\n",
      "Backtest - BNBBUSD - 1d - Start\n",
      "coinPair =  BNBBUSD\n"
     ]
    },
    {
     "name": "stderr",
     "output_type": "stream",
     "text": [
      "/home/joaosilva/.local/lib/python3.10/site-packages/backtesting/backtesting.py:1488: UserWarning: Searching for best of 3725 configurations.\n",
      "  output = _optimize_grid()\n"
     ]
    },
    {
     "name": "stdout",
     "output_type": "stream",
     "text": [
      "n1= 13\n",
      "n2= 20\n",
      "Return [%] =  4422.93\n",
      "Buy & Hold Return [%] =  1260.2\n",
      "linha= 15\n",
      "Saving Coin Pair to coinpairBestEma file\n",
      "Backtest BNBBUSD - 1d - End\n",
      "Add Coin pair - BNBBUSD - 1d - run successfully\n",
      "Backtest - BNBBUSD - 4h - Start\n",
      "coinPair =  BNBBUSD\n"
     ]
    },
    {
     "name": "stderr",
     "output_type": "stream",
     "text": [
      "/home/joaosilva/.local/lib/python3.10/site-packages/backtesting/backtesting.py:1488: UserWarning: Searching for best of 3725 configurations.\n",
      "  output = _optimize_grid()\n"
     ]
    }
   ],
   "source": [
    "addCoinPair.main()"
   ]
  },
  {
   "cell_type": "code",
   "execution_count": 16,
   "metadata": {},
   "outputs": [],
   "source": [
    " # remove coin pairs from position files not in accumulation or bullish phase\n",
    "accuBullishCoinPairs = ['BTCBUSD','ETHBUSD']\n",
    "\n",
    "\n",
    "positionsfile = pd.read_csv('positions1d.csv')\n",
    "\n",
    "filter1 = (positionsfile['position'] == 1) & (positionsfile['quantity'] > 0)\n",
    "filter2 = positionsfile['Currency'].isin(accuBullishCoinPairs)\n",
    "positionsfile = positionsfile[filter1 | filter2]  \n",
    "\n",
    "positionsfile.to_csv('positions1d.csv', index=False)"
   ]
  }
 ],
 "metadata": {
  "kernelspec": {
   "display_name": "Python 3.10.6 64-bit",
   "language": "python",
   "name": "python3"
  },
  "language_info": {
   "codemirror_mode": {
    "name": "ipython",
    "version": 3
   },
   "file_extension": ".py",
   "mimetype": "text/x-python",
   "name": "python",
   "nbconvert_exporter": "python",
   "pygments_lexer": "ipython3",
   "version": "3.10.6"
  },
  "orig_nbformat": 4,
  "vscode": {
   "interpreter": {
    "hash": "916dbcbb3f70747c44a77c7bcd40155683ae19c65e1c03b4aa3499c5328201f1"
   }
  }
 },
 "nbformat": 4,
 "nbformat_minor": 2
}
