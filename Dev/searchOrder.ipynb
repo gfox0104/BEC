{
 "cells": [
  {
   "cell_type": "code",
   "execution_count": 79,
   "metadata": {},
   "outputs": [],
   "source": [
    "import pandas as pd\n",
    "import datetime\n",
    "\n"
   ]
  },
  {
   "cell_type": "code",
   "execution_count": 80,
   "metadata": {},
   "outputs": [],
   "source": [
    "\n",
    "def calcPnL(symbol, sellprice, sellqty):\n",
    "    with open(r\"orders\", 'r') as fp:\n",
    "        for l_no, line in reversed(list(enumerate(fp))):\n",
    "            # search string\n",
    "            if (symbol in line) and (\"BUY\" in line):\n",
    "\n",
    "                # print('string found in a file')\n",
    "                # print('Line Number:', l_no)\n",
    "                # print('Line:', line)\n",
    "                \n",
    "                # sellprice = 300\n",
    "                orderid = line.split(',')[0]\n",
    "                # print('orderid:', orderid)\n",
    "                buyprice = float(line.split(',')[4])\n",
    "                # print('Buy Price:', buyprice)\n",
    "                buyqty = float(line.split(',')[5])\n",
    "                # print('Buy qty:', buyqty)\n",
    "                # print('Sell price:', sellprice)\n",
    "                # sellqty = buyqty\n",
    "                PnLperc = ((sellprice-buyprice)/buyprice)*100\n",
    "                PnLperc = round(PnLperc, 2)\n",
    "                PnLvalue = round((sellprice*sellqty)-(buyprice*buyqty),2)\n",
    "                # print('Buy USD =', round(buyprice*buyqty,2))\n",
    "                # print('Sell USD =', round(sellprice*sellqty,2))\n",
    "                # print('PnL% =', PnLperc)\n",
    "                # print('PnL USD =', PnLvalue)\n",
    "                # don't look for next lines\n",
    "                \n",
    "                lista = [orderid, PnLperc, PnLvalue]\n",
    "                return lista\n",
    "                \n",
    "                break\n",
    "\n"
   ]
  },
  {
   "cell_type": "code",
   "execution_count": 81,
   "metadata": {},
   "outputs": [],
   "source": [
    "dforders = pd.read_csv('orders', nrows=0)\n",
    "\n",
    "\n"
   ]
  },
  {
   "cell_type": "code",
   "execution_count": 82,
   "metadata": {},
   "outputs": [
    {
     "data": {
      "text/html": [
       "<div>\n",
       "<style scoped>\n",
       "    .dataframe tbody tr th:only-of-type {\n",
       "        vertical-align: middle;\n",
       "    }\n",
       "\n",
       "    .dataframe tbody tr th {\n",
       "        vertical-align: top;\n",
       "    }\n",
       "\n",
       "    .dataframe thead th {\n",
       "        text-align: right;\n",
       "    }\n",
       "</style>\n",
       "<table border=\"1\" class=\"dataframe\">\n",
       "  <thead>\n",
       "    <tr style=\"text-align: right;\">\n",
       "      <th></th>\n",
       "      <th>orderId</th>\n",
       "      <th>time</th>\n",
       "      <th>symbol</th>\n",
       "      <th>side</th>\n",
       "      <th>price</th>\n",
       "      <th>executedQty</th>\n",
       "      <th>buyorderid</th>\n",
       "      <th>pnlperc</th>\n",
       "      <th>pnlusd</th>\n",
       "    </tr>\n",
       "  </thead>\n",
       "  <tbody>\n",
       "  </tbody>\n",
       "</table>\n",
       "</div>"
      ],
      "text/plain": [
       "Empty DataFrame\n",
       "Columns: [orderId, time, symbol, side, price, executedQty, buyorderid, pnlperc, pnlusd]\n",
       "Index: []"
      ]
     },
     "execution_count": 82,
     "metadata": {},
     "output_type": "execute_result"
    }
   ],
   "source": [
    "dforders"
   ]
  },
  {
   "cell_type": "code",
   "execution_count": 83,
   "metadata": {},
   "outputs": [
    {
     "data": {
      "text/html": [
       "<div>\n",
       "<style scoped>\n",
       "    .dataframe tbody tr th:only-of-type {\n",
       "        vertical-align: middle;\n",
       "    }\n",
       "\n",
       "    .dataframe tbody tr th {\n",
       "        vertical-align: top;\n",
       "    }\n",
       "\n",
       "    .dataframe thead th {\n",
       "        text-align: right;\n",
       "    }\n",
       "</style>\n",
       "<table border=\"1\" class=\"dataframe\">\n",
       "  <thead>\n",
       "    <tr style=\"text-align: right;\">\n",
       "      <th></th>\n",
       "      <th>orderId</th>\n",
       "      <th>time</th>\n",
       "      <th>symbol</th>\n",
       "      <th>side</th>\n",
       "      <th>price</th>\n",
       "      <th>executedQty</th>\n",
       "      <th>buyorderid</th>\n",
       "      <th>pnlperc</th>\n",
       "      <th>pnlusd</th>\n",
       "    </tr>\n",
       "  </thead>\n",
       "  <tbody>\n",
       "    <tr>\n",
       "      <th>0</th>\n",
       "      <td>3</td>\n",
       "      <td>&lt;class 'datetime.date'&gt;</td>\n",
       "      <td>BNBBUSD</td>\n",
       "      <td>BUY</td>\n",
       "      <td>300</td>\n",
       "      <td>0.655</td>\n",
       "      <td>0</td>\n",
       "      <td>0</td>\n",
       "      <td>0</td>\n",
       "    </tr>\n",
       "    <tr>\n",
       "      <th>1</th>\n",
       "      <td>4</td>\n",
       "      <td>&lt;class 'datetime.date'&gt;</td>\n",
       "      <td>BNBBUSD</td>\n",
       "      <td>SELL</td>\n",
       "      <td>300</td>\n",
       "      <td>0.655</td>\n",
       "      <td>0</td>\n",
       "      <td>0</td>\n",
       "      <td>0</td>\n",
       "    </tr>\n",
       "  </tbody>\n",
       "</table>\n",
       "</div>"
      ],
      "text/plain": [
       "  orderId                     time   symbol  side  price  executedQty  \\\n",
       "0       3  <class 'datetime.date'>  BNBBUSD   BUY    300        0.655   \n",
       "1       4  <class 'datetime.date'>  BNBBUSD  SELL    300        0.655   \n",
       "\n",
       "   buyorderid  pnlperc  pnlusd  \n",
       "0           0        0       0  \n",
       "1           0        0       0  "
      ]
     },
     "execution_count": 83,
     "metadata": {},
     "output_type": "execute_result"
    }
   ],
   "source": [
    "agora = datetime.date\n",
    "dforders.loc[len(dforders.index)] = ['3', agora, 'BNBBUSD', 'BUY', 300, 0.655, 0 ,0, 0 ]\n",
    "dforders.loc[len(dforders.index)] = ['4', agora, 'BNBBUSD', 'SELL', 300, 0.655, 0 ,0, 0]\n",
    "dforders\n"
   ]
  },
  {
   "cell_type": "code",
   "execution_count": 84,
   "metadata": {},
   "outputs": [
    {
     "name": "stdout",
     "output_type": "stream",
     "text": [
      "string found in a file\n",
      "Line Number: 138\n",
      "Line: 1431904421,2022-10-27 13:01:28,BNBBUSD,BUY,289.3,0.655\n",
      "\n",
      "orderid: 1431904421\n",
      "Buy Price: 289.3\n",
      "Buy qty: 0.655\n",
      "Sell price: 300\n",
      "Buy USD = 189.49\n",
      "Sell USD = 196.5\n",
      "PnL% = 3.7\n",
      "PnL USD = 7.01\n"
     ]
    }
   ],
   "source": [
    "for i in range(len(dforders)):\n",
    "    if dforders.iloc[i,3] == \"SELL\":\n",
    "        # print(dforders.iloc[i, 0], dforders.iloc[i, 2])\n",
    "        addPnL = calcPnL(dforders.iloc[i,2], dforders.iloc[i,4], dforders.iloc[i,5])\n",
    "        dforders.iloc[i,6] = addPnL[0]\n",
    "        dforders.iloc[i,7] = addPnL[1]\n",
    "        dforders.iloc[i,8] = addPnL[2]"
   ]
  },
  {
   "cell_type": "code",
   "execution_count": 85,
   "metadata": {},
   "outputs": [
    {
     "data": {
      "text/html": [
       "<div>\n",
       "<style scoped>\n",
       "    .dataframe tbody tr th:only-of-type {\n",
       "        vertical-align: middle;\n",
       "    }\n",
       "\n",
       "    .dataframe tbody tr th {\n",
       "        vertical-align: top;\n",
       "    }\n",
       "\n",
       "    .dataframe thead th {\n",
       "        text-align: right;\n",
       "    }\n",
       "</style>\n",
       "<table border=\"1\" class=\"dataframe\">\n",
       "  <thead>\n",
       "    <tr style=\"text-align: right;\">\n",
       "      <th></th>\n",
       "      <th>orderId</th>\n",
       "      <th>time</th>\n",
       "      <th>symbol</th>\n",
       "      <th>side</th>\n",
       "      <th>price</th>\n",
       "      <th>executedQty</th>\n",
       "      <th>buyorderid</th>\n",
       "      <th>pnlperc</th>\n",
       "      <th>pnlusd</th>\n",
       "    </tr>\n",
       "  </thead>\n",
       "  <tbody>\n",
       "    <tr>\n",
       "      <th>0</th>\n",
       "      <td>3</td>\n",
       "      <td>&lt;class 'datetime.date'&gt;</td>\n",
       "      <td>BNBBUSD</td>\n",
       "      <td>BUY</td>\n",
       "      <td>300</td>\n",
       "      <td>0.655</td>\n",
       "      <td>0</td>\n",
       "      <td>0.0</td>\n",
       "      <td>0.00</td>\n",
       "    </tr>\n",
       "    <tr>\n",
       "      <th>1</th>\n",
       "      <td>4</td>\n",
       "      <td>&lt;class 'datetime.date'&gt;</td>\n",
       "      <td>BNBBUSD</td>\n",
       "      <td>SELL</td>\n",
       "      <td>300</td>\n",
       "      <td>0.655</td>\n",
       "      <td>1431904421</td>\n",
       "      <td>3.7</td>\n",
       "      <td>7.01</td>\n",
       "    </tr>\n",
       "  </tbody>\n",
       "</table>\n",
       "</div>"
      ],
      "text/plain": [
       "  orderId                     time   symbol  side  price  executedQty  \\\n",
       "0       3  <class 'datetime.date'>  BNBBUSD   BUY    300        0.655   \n",
       "1       4  <class 'datetime.date'>  BNBBUSD  SELL    300        0.655   \n",
       "\n",
       "   buyorderid  pnlperc  pnlusd  \n",
       "0           0      0.0    0.00  \n",
       "1  1431904421      3.7    7.01  "
      ]
     },
     "execution_count": 85,
     "metadata": {},
     "output_type": "execute_result"
    }
   ],
   "source": [
    "dforders"
   ]
  },
  {
   "cell_type": "code",
   "execution_count": 86,
   "metadata": {},
   "outputs": [],
   "source": [
    "#save csv\n",
    "dforders.to_csv('ordersWithPnL', mode='a', index=False, header=False)"
   ]
  }
 ],
 "metadata": {
  "kernelspec": {
   "display_name": "Python 3.10.6 64-bit",
   "language": "python",
   "name": "python3"
  },
  "language_info": {
   "codemirror_mode": {
    "name": "ipython",
    "version": 3
   },
   "file_extension": ".py",
   "mimetype": "text/x-python",
   "name": "python",
   "nbconvert_exporter": "python",
   "pygments_lexer": "ipython3",
   "version": "3.10.6"
  },
  "orig_nbformat": 4,
  "vscode": {
   "interpreter": {
    "hash": "916dbcbb3f70747c44a77c7bcd40155683ae19c65e1c03b4aa3499c5328201f1"
   }
  }
 },
 "nbformat": 4,
 "nbformat_minor": 2
}
