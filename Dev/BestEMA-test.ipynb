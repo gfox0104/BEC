{
 "cells": [
  {
   "cell_type": "code",
   "execution_count": 4,
   "metadata": {},
   "outputs": [],
   "source": [
    "\n",
    "\"\"\"\n",
    "calculates best ema for the coinpair and time frame provided and store results on coinpairBestEma.csv\n",
    "\"\"\"\n",
    "\n",
    "import os\n",
    "from binance.client import Client\n",
    "import pandas as pd\n",
    "import datetime as dt\n",
    "from backtesting import Backtest\n",
    "from backtesting import Strategy\n",
    "import sys"
   ]
  },
  {
   "cell_type": "code",
   "execution_count": 5,
   "metadata": {},
   "outputs": [],
   "source": [
    "# %%\n",
    "# Binance API\n",
    "api_key = os.environ.get('binance_api')\n",
    "api_secret = os.environ.get('binance_secret')\n",
    "\n",
    "\n",
    "# %%\n",
    "client = Client(api_key, api_secret)\n",
    "\n",
    "\n",
    "\n",
    "# startdate = \"10 Nov, 2018 UTC\"\n",
    "startdate = \"12 May, 2022 UTC\"\n",
    "# startdate = \"4 year ago UTC\"\n",
    "# startdate = \"10 day ago UTC\"\n",
    "timeframe = \"\""
   ]
  },
  {
   "cell_type": "code",
   "execution_count": 6,
   "metadata": {},
   "outputs": [],
   "source": [
    "\n",
    "def EMA(values, n):\n",
    "    \"\"\"\n",
    "    Return exp moving average of `values`, at\n",
    "    each step taking into account `n` previous values.\n",
    "    \"\"\"\n",
    "    \n",
    "    return pd.Series(values).ewm(span=n, adjust=False).mean()\n",
    "\n",
    "\n",
    "# %%\n",
    "\n",
    "\n",
    "\n",
    "# we will use 2 exponencial moving averages:\n",
    "# BUY when fast ema > slow ema\n",
    "# Close position when slow ema > fast ema  \n",
    "class EmaCross(Strategy):\n",
    "    n1 = 8\n",
    "    n2 = 34\n",
    "\n",
    "    \n",
    "    def init(self):\n",
    "        \n",
    "        self.ma1 = self.I(EMA, self.data.Close, self.n1)\n",
    "        self.ma2 = self.I(EMA, self.data.Close, self.n2)\n",
    "        \n",
    "    def next(self):\n",
    "\n",
    "        fastMA = self.ma1[-1]\n",
    "        slowMA = self.ma2[-1]\n",
    "        priceClose = self.data.Close[-1]\n",
    "\n",
    "        if not self.position:\n",
    "            \n",
    "            if fastMA > slowMA:\n",
    "                self.buy()\n",
    "        \n",
    "        else:\n",
    "            if slowMA > fastMA:   \n",
    "                self.position.close()\n",
    "            \n",
    "\n",
    "\n",
    "# %%\n",
    "def getdata(Symbol):\n",
    "    frame = pd.DataFrame(client.get_historical_klines(Symbol,\n",
    "                                                      timeframe,\n",
    "                                                      startdate\n",
    "                                                      ))\n",
    "    \n",
    "    frame = frame.iloc[:,:6] # use the first 5 columns\n",
    "    frame.columns = ['Time','Open','High','Low','Close','Volume'] #rename columns\n",
    "    frame[['Open','High','Low','Close','Volume']] = frame[['Open','High','Low','Close','Volume']].astype(float) #cast to float\n",
    "    # frame.Time = pd.to_datetime(frame.Time, unit='ms') #make human readable timestamp\n",
    "    frame.index = [dt.datetime.fromtimestamp(x/1000.0) for x in frame.Time]\n",
    "    return frame\n",
    "\n",
    "# %%\n",
    "def runBackTest(coinPair):\n",
    "\n",
    "    print(\"coinPair = \",coinPair)\n",
    "    df = getdata(coinPair)\n",
    "    df = df.drop(['Time'], axis=1)\n",
    "\n",
    "    bt = Backtest(df, EmaCross, cash=100000, commission=0.001)\n",
    "    stats = bt.run()\n",
    "    stats\n",
    "    # bt.plot() \n",
    "\n",
    "    stats, heatmap = bt.optimize(\n",
    "    n1=range(1, 100, 2),\n",
    "    n2=range(2, 200, 2),\n",
    "    constraint=lambda param: param.n1 < param.n2,\n",
    "    maximize='Equity Final [$]',\n",
    "    return_heatmap=True\n",
    "    )\n",
    "\n",
    "    dfbema = pd.DataFrame(heatmap.sort_values().iloc[-1:])\n",
    "    n1 = dfbema.index.get_level_values(0)[0]\n",
    "    n2 = dfbema.index.get_level_values(1)[0]\n",
    "    returnPerc = round(stats['Return [%]'],2)\n",
    "    BuyHoldReturnPerc = round(stats['Buy & Hold Return [%]'],2)\n",
    "\n",
    "    # lista\n",
    "    print(\"n1=\",n1)\n",
    "    print(\"n2=\",n2)\n",
    "    print(\"Return [%] = \",round(returnPerc,2))\n",
    "    print(\"Buy & Hold Return [%] = \",round(BuyHoldReturnPerc,2))\n",
    "\n",
    "    coinpairBestEma = pd.read_csv('coinpairBestEma.csv')\n",
    "    # coinpairBestEma\n",
    "    # add to file coinpair Best Ema \n",
    "    # if exist then update else add\n",
    "    linha = coinpairBestEma.index[(coinpairBestEma.coinPair == coinPair) & (coinpairBestEma.timeFrame == timeframe)].to_list()\n",
    "\n",
    "    if not linha:\n",
    "        # print(\"There is no line in coinpairBestEma file with coinPair \"+str(coinPair)+ \" and timeframe \"+str(timeframe)+\". New line will be added.\")\n",
    "        # add line\n",
    "        coinpairBestEma.loc[len(coinpairBestEma.index)] = [coinPair, \n",
    "                                                            n1,\n",
    "                                                            n2,\n",
    "                                                            timeframe,\n",
    "                                                            returnPerc,\n",
    "                                                            BuyHoldReturnPerc\n",
    "                                                        ]\n",
    "    else:\n",
    "        print(\"linha=\",linha[0])\n",
    "        # update line\n",
    "        coinpairBestEma.loc[linha[0],['fastEMA','slowEMA','returnPerc','BuyHoldReturnPerc']] = [n1, n2, returnPerc,BuyHoldReturnPerc]\n",
    "\n",
    "    # coinpairBestEma\n",
    "    print(\"Saving Coin Pair to coinpairBestEma file\")\n",
    "\n",
    "    #order by coinpair and timeframe\n",
    "    coinpairBestEma.sort_values(by=['coinPair','timeFrame'], inplace=True)\n",
    "    coinpairBestEma.to_csv('coinpairBestEma.csv', index=False, header=True)\n",
    "\n",
    "\n",
    "def addcoinpair(coinPair, lTimeframe):\n",
    "\n",
    "    result = False\n",
    "    \n",
    "    global timeframe \n",
    "    timeframe = str(lTimeframe)\n",
    "\n",
    "\n",
    "    print(\"Backtest - \"+coinPair+\" - \"+timeframe+\" - Start\")\n",
    "    runBackTest(coinPair)\n",
    "\n",
    "    print(\"Backtest \"+coinPair+\" - \"+timeframe+\" - End\")\n",
    "\n",
    "    result = True\n",
    "    return result\n",
    "\n",
    "\n",
    "\n"
   ]
  },
  {
   "cell_type": "code",
   "execution_count": 7,
   "metadata": {},
   "outputs": [
    {
     "name": "stdout",
     "output_type": "stream",
     "text": [
      "Backtest - LTCBUSD - 30m - Start\n",
      "coinPair =  LTCBUSD\n"
     ]
    },
    {
     "name": "stderr",
     "output_type": "stream",
     "text": [
      "/tmp/ipykernel_221203/1593838679.py:65: UserWarning: Data index is not sorted in ascending order. Sorting.\n",
      "  bt = Backtest(df, EmaCross, cash=100000, commission=0.001)\n",
      "/home/joaosilva/.local/lib/python3.10/site-packages/backtesting/backtesting.py:1488: UserWarning: Searching for best of 3725 configurations.\n",
      "  output = _optimize_grid()\n"
     ]
    },
    {
     "name": "stdout",
     "output_type": "stream",
     "text": [
      "n1= 29\n",
      "n2= 42\n",
      "Return [%] =  -7.72\n",
      "Buy & Hold Return [%] =  12.96\n",
      "Saving Coin Pair to coinpairBestEma file\n",
      "Backtest LTCBUSD - 30m - End\n"
     ]
    },
    {
     "data": {
      "text/plain": [
       "True"
      ]
     },
     "execution_count": 7,
     "metadata": {},
     "output_type": "execute_result"
    }
   ],
   "source": [
    "addcoinpair(\"LTCBUSD\", \"30m\")"
   ]
  },
  {
   "cell_type": "code",
   "execution_count": 8,
   "metadata": {},
   "outputs": [
    {
     "name": "stdout",
     "output_type": "stream",
     "text": [
      "Backtest - LTCBUSD - 15m - Start\n",
      "coinPair =  LTCBUSD\n"
     ]
    },
    {
     "name": "stderr",
     "output_type": "stream",
     "text": [
      "/tmp/ipykernel_221203/1593838679.py:65: UserWarning: Data index is not sorted in ascending order. Sorting.\n",
      "  bt = Backtest(df, EmaCross, cash=100000, commission=0.001)\n",
      "/home/joaosilva/.local/lib/python3.10/site-packages/backtesting/backtesting.py:1488: UserWarning: Searching for best of 3725 configurations.\n",
      "  output = _optimize_grid()\n"
     ]
    },
    {
     "name": "stdout",
     "output_type": "stream",
     "text": [
      "n1= 51\n",
      "n2= 100\n",
      "Return [%] =  -2.11\n",
      "Buy & Hold Return [%] =  13.4\n",
      "Saving Coin Pair to coinpairBestEma file\n",
      "Backtest LTCBUSD - 15m - End\n"
     ]
    },
    {
     "data": {
      "text/plain": [
       "True"
      ]
     },
     "execution_count": 8,
     "metadata": {},
     "output_type": "execute_result"
    }
   ],
   "source": [
    "addcoinpair(\"LTCBUSD\", \"15m\")"
   ]
  },
  {
   "cell_type": "code",
   "execution_count": 9,
   "metadata": {},
   "outputs": [
    {
     "name": "stdout",
     "output_type": "stream",
     "text": [
      "Backtest - LTCBUSD - 5m - Start\n",
      "coinPair =  LTCBUSD\n"
     ]
    },
    {
     "name": "stderr",
     "output_type": "stream",
     "text": [
      "/tmp/ipykernel_221203/1593838679.py:65: UserWarning: Data index is not sorted in ascending order. Sorting.\n",
      "  bt = Backtest(df, EmaCross, cash=100000, commission=0.001)\n",
      "/home/joaosilva/.local/lib/python3.10/site-packages/backtesting/backtesting.py:1488: UserWarning: Searching for best of 3725 configurations.\n",
      "  output = _optimize_grid()\n"
     ]
    },
    {
     "name": "stdout",
     "output_type": "stream",
     "text": [
      "n1= 87\n",
      "n2= 112\n",
      "Return [%] =  -31.88\n",
      "Buy & Hold Return [%] =  15.77\n",
      "Saving Coin Pair to coinpairBestEma file\n",
      "Backtest LTCBUSD - 5m - End\n"
     ]
    },
    {
     "data": {
      "text/plain": [
       "True"
      ]
     },
     "execution_count": 9,
     "metadata": {},
     "output_type": "execute_result"
    }
   ],
   "source": [
    "addcoinpair(\"LTCBUSD\", \"5m\")"
   ]
  },
  {
   "cell_type": "code",
   "execution_count": 10,
   "metadata": {},
   "outputs": [
    {
     "name": "stdout",
     "output_type": "stream",
     "text": [
      "Backtest - LTCBUSD - 1m - Start\n",
      "coinPair =  LTCBUSD\n"
     ]
    },
    {
     "name": "stderr",
     "output_type": "stream",
     "text": [
      "/tmp/ipykernel_221203/1593838679.py:65: UserWarning: Data index is not sorted in ascending order. Sorting.\n",
      "  bt = Backtest(df, EmaCross, cash=100000, commission=0.001)\n",
      "/home/joaosilva/.local/lib/python3.10/site-packages/backtesting/backtesting.py:1488: UserWarning: Searching for best of 3725 configurations.\n",
      "  output = _optimize_grid()\n"
     ]
    },
    {
     "name": "stdout",
     "output_type": "stream",
     "text": [
      "n1= 93\n",
      "n2= 190\n",
      "Return [%] =  -68.75\n",
      "Buy & Hold Return [%] =  16.46\n",
      "Saving Coin Pair to coinpairBestEma file\n",
      "Backtest LTCBUSD - 1m - End\n"
     ]
    },
    {
     "data": {
      "text/plain": [
       "True"
      ]
     },
     "execution_count": 10,
     "metadata": {},
     "output_type": "execute_result"
    }
   ],
   "source": [
    "addcoinpair(\"LTCBUSD\", \"1m\")"
   ]
  }
 ],
 "metadata": {
  "kernelspec": {
   "display_name": "Python 3.10.6 64-bit",
   "language": "python",
   "name": "python3"
  },
  "language_info": {
   "codemirror_mode": {
    "name": "ipython",
    "version": 3
   },
   "file_extension": ".py",
   "mimetype": "text/x-python",
   "name": "python",
   "nbconvert_exporter": "python",
   "pygments_lexer": "ipython3",
   "version": "3.10.6"
  },
  "orig_nbformat": 4,
  "vscode": {
   "interpreter": {
    "hash": "916dbcbb3f70747c44a77c7bcd40155683ae19c65e1c03b4aa3499c5328201f1"
   }
  }
 },
 "nbformat": 4,
 "nbformat_minor": 2
}
