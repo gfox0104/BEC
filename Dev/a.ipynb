{
 "cells": [
  {
   "cell_type": "code",
   "execution_count": 1,
   "metadata": {},
   "outputs": [],
   "source": [
    "import pandas as pd\n",
    "import sys\n",
    "\n",
    "df_mp = pd.read_csv('coinpairByMarketPhase_BUSD_1d.csv')\n",
    "df_best_ema = pd.read_csv('coinpairBestEma.csv')\n",
    "\n",
    "positionsTimeframe = [\"1d\", \"4h\", \"1h\"]\n",
    "\n",
    "top_coins = df_mp.Coinpair.to_list()\n",
    "\n",
    "for tf in positionsTimeframe: \n",
    "    # add coin pairs top performers to positions files\n",
    "    for coinPair in top_coins:\n",
    "        \n",
    "        # read position file\n",
    "        df_pos = pd.read_csv('positions'+tf+'.csv')\n",
    "\n",
    "        # check if coin is already in position file\n",
    "        exists = coinPair in df_pos['Currency'].values\n",
    "        if not exists:\n",
    "            \n",
    "            # get return percentage\n",
    "            values = df_best_ema.loc[(df_best_ema['coinPair'] == coinPair) & (df_best_ema['timeFrame'] == tf), ['returnPerc']].values\n",
    "            if len(values) > 0:\n",
    "                return_perc = values[0][0]\n",
    "                \n",
    "                #if return percentage > 0 add coin to positions file\n",
    "                if return_perc > 0:            \n",
    "                    df_add = pd.DataFrame({'Currency': [coinPair],\n",
    "                                            'performance_rank': [0],\n",
    "                                            'position': [0],\n",
    "                                            'quantity': [0],\n",
    "                                            'buyPrice': [0],\n",
    "                                            'currentPrice': [0],\n",
    "                                            'PnLperc': [0]})\n",
    "                    df_pos = pd.concat([df_pos, df_add], ignore_index = True, axis = 0)\n",
    "\n",
    "                    try:\n",
    "                        df_pos.to_csv('positions'+tf+'.csv', index=False)\n",
    "                    except Exception as e:\n",
    "                        msg = sys._getframe(  ).f_code.co_name+\" - \"+repr(e)\n",
    "                        print(msg)\n",
    "                        # telegram.send_telegram_message(telegram.telegramToken_market_phases, telegram.eWarning, msg)"
   ]
  },
  {
   "cell_type": "code",
   "execution_count": 18,
   "metadata": {},
   "outputs": [
    {
     "data": {
      "text/plain": [
       "755.81"
      ]
     },
     "execution_count": 18,
     "metadata": {},
     "output_type": "execute_result"
    }
   ],
   "source": []
  }
 ],
 "metadata": {
  "kernelspec": {
   "display_name": "Python 3",
   "language": "python",
   "name": "python3"
  },
  "language_info": {
   "codemirror_mode": {
    "name": "ipython",
    "version": 3
   },
   "file_extension": ".py",
   "mimetype": "text/x-python",
   "name": "python",
   "nbconvert_exporter": "python",
   "pygments_lexer": "ipython3",
   "version": "3.10.6"
  },
  "orig_nbformat": 4,
  "vscode": {
   "interpreter": {
    "hash": "916dbcbb3f70747c44a77c7bcd40155683ae19c65e1c03b4aa3499c5328201f1"
   }
  }
 },
 "nbformat": 4,
 "nbformat_minor": 2
}
