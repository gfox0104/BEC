{
 "cells": [
  {
   "cell_type": "code",
   "execution_count": 1,
   "id": "62b1b8de",
   "metadata": {},
   "outputs": [],
   "source": [
    "import os\n",
    "import pandas as pd\n",
    "from binance.client import Client\n",
    "import requests\n",
    "from datetime import datetime,timezone\n",
    "import time\n",
    "import sys"
   ]
  },
  {
   "cell_type": "code",
   "execution_count": null,
   "id": "254e74af",
   "metadata": {},
   "outputs": [],
   "source": [
    "# create .bat file that will run python program"
   ]
  },
  {
   "cell_type": "code",
   "execution_count": null,
   "id": "4d0a9d36",
   "metadata": {},
   "outputs": [],
   "source": [
    "#criar csv das orders\n",
    "# orders = client.get_all_orders(symbol='BTCBUSD', limit=1)\n",
    "# dforders = pd.DataFrame(orders)\n",
    "# # colunas a manter\n",
    "# col_keep = ['symbol','price','executedQty','side','time']\n",
    "# dforders = dforders[col_keep]\n",
    "# dforders.time = pd.to_datetime(dforders.time, unit='ms')\n",
    "# dforders.to_csv('orders.csv', mode='a', index=False, header=False)"
   ]
  },
  {
   "cell_type": "code",
   "execution_count": null,
   "id": "f9ac0227",
   "metadata": {},
   "outputs": [],
   "source": [
    "# create initial csv with positions\n",
    "# posframe = pd.DataFrame(symbols)\n",
    "# posframe.columns = ['Currency']\n",
    "# posframe['position'] = 0\n",
    "# posframe['quantity'] = 0\n",
    "# posframe.to_csv('positioncheck', index=False)"
   ]
  },
  {
   "cell_type": "code",
   "execution_count": 4,
   "id": "bd7c4ebe",
   "metadata": {},
   "outputs": [],
   "source": [
    "# environment variables\n",
    "try:\n",
    "    # Binance\n",
    "    api_key = os.environ.get('binance_api')\n",
    "    # print(\"api_key: \", api_key)\n",
    "    api_secret = os.environ.get('binance_secret')\n",
    "    \n",
    "    # Telegram\n",
    "    telegramToken = os.environ.get('telegramToken') \n",
    "    telegram_chat_id = os.environ.get('telegram_chat_id')\n",
    "\n",
    "except KeyError: \n",
    "    print(\"Environment variable does not exist\")"
   ]
  },
  {
   "cell_type": "code",
   "execution_count": 5,
   "id": "d20691fb",
   "metadata": {},
   "outputs": [],
   "source": [
    "# read positions csv\n",
    "posframe = pd.read_csv('positioncheck')\n",
    "# posframe\n",
    "\n",
    "# read orders csv\n",
    "# we just want the header, there is no need to get all the existing orders.\n",
    "# at the end we will append the orders to the csv\n",
    "dforders = pd.read_csv('orders', nrows=0)\n",
    "# dforders"
   ]
  },
  {
   "cell_type": "code",
   "execution_count": 6,
   "id": "7235815f",
   "metadata": {},
   "outputs": [],
   "source": [
    "# constants\n",
    "\n",
    "# coins to trade\n",
    "symbols = ['BTCBUSD','ETHBUSD','BNBBUSD','SOLBUSD','MATICBUSD','FTTBUSD']\n",
    "\n",
    "# strategy\n",
    "timeframe = \"1h\"\n",
    "\n",
    "# percentage of balance to open position for each trade - example 0.1 = 10%\n",
    "tradepercentage = float(\"0.002\")\n",
    "# risk percentage per trade - example 0.01 = 1%\n",
    "risk = float(\"0.01\")\n",
    "\n",
    "# Telegram\n",
    "url = f\"https://api.telegram.org/bot{telegramToken}/getUpdates\"\n",
    "# print(requests.get(url).json())\n",
    "\n",
    "# emoji\n",
    "eStart   = u'\\U000025B6'\n",
    "eStop    = u'\\U000023F9'\n",
    "eWarning = u'\\U000026A0'\n",
    "eEnterTrade = u'\\U0001F91E' #crossfingers\n",
    "eExitTrade  = u'\\U0001F91E' #crossfingers\n",
    "eTradeWithProfit = u'\\U0001F44D' # thumbs up\n",
    "eTradeWithLoss   = u'\\U0001F44E' # thumbs down\n",
    "eInformation = u'\\U00002139'\n"
   ]
  },
  {
   "cell_type": "code",
   "execution_count": 7,
   "id": "035bba19",
   "metadata": {},
   "outputs": [],
   "source": [
    "def sendTelegramMessage(emoji, msg):\n",
    "    lmsg = emoji+\" \"+msg\n",
    "    url = f\"https://api.telegram.org/bot{telegramToken}/sendMessage?chat_id={telegram_chat_id}&text={lmsg}\"\n",
    "    requests.get(url).json() # this sends the message\n",
    "\n",
    "def sendTelegramAlert(emoji, date, coin, timeframe, strategy, ordertype, value, amount):\n",
    "    lmsg = emoji + \" \" + date + \" - \" + coin + \" - \" + strategy + \" - \" + timeframe + \" - \" + ordertype + \" - \" + \"Value: \" + value + \" - \" + \"Amount: \" + amount\n",
    "    url = f\"https://api.telegram.org/bot{telegramToken}/sendMessage?chat_id={telegram_chat_id}&text={lmsg}\"\n",
    "    requests.get(url).json() # this sends the message"
   ]
  },
  {
   "cell_type": "code",
   "execution_count": null,
   "id": "3edb3a06",
   "metadata": {},
   "outputs": [],
   "source": [
    "# def testTelegramMessages():\n",
    "    # sendTelegramMessage(eInformation,\" Environment variable does not exist\")\n",
    "# testTelegramMessages()"
   ]
  },
  {
   "cell_type": "code",
   "execution_count": 8,
   "id": "e0f78518",
   "metadata": {},
   "outputs": [],
   "source": [
    "# Binance Client\n",
    "client = Client(api_key, api_secret)"
   ]
  },
  {
   "cell_type": "code",
   "execution_count": 9,
   "id": "3de956c6",
   "metadata": {},
   "outputs": [],
   "source": [
    "def calcPositionSize():\n",
    "\n",
    "    # get balance from BUSD\n",
    "    stableBalance = client.get_asset_balance(asset='BUSD')['free']\n",
    "    stableBalance = float(stableBalance)\n",
    "    # print(stableBalance)\n",
    "\n",
    "    # calculate position size based on the percentage per trade\n",
    "    positionSize = stableBalance*tradepercentage \n",
    "    \n",
    "    # positionAmount = 10\n",
    "    return positionSize"
   ]
  },
  {
   "cell_type": "code",
   "execution_count": 19,
   "id": "65b0c174",
   "metadata": {},
   "outputs": [],
   "source": [
    "def getdata(symbol):\n",
    "    frame = pd.DataFrame(client.get_historical_klines(symbol,\n",
    "                                                        timeframe,\n",
    "                                                        '200 hour ago UTC'))\n",
    "    frame = frame[[0,4]]\n",
    "    frame.columns = ['Time','Close']\n",
    "    frame.Close = frame.Close.astype(float)\n",
    "    frame.Time = pd.to_datetime(frame.Time, unit='ms')\n",
    "    return frame"
   ]
  },
  {
   "cell_type": "code",
   "execution_count": 18,
   "id": "37f2f3ad",
   "metadata": {},
   "outputs": [
    {
     "data": {
      "text/html": [
       "<div>\n",
       "<style scoped>\n",
       "    .dataframe tbody tr th:only-of-type {\n",
       "        vertical-align: middle;\n",
       "    }\n",
       "\n",
       "    .dataframe tbody tr th {\n",
       "        vertical-align: top;\n",
       "    }\n",
       "\n",
       "    .dataframe thead th {\n",
       "        text-align: right;\n",
       "    }\n",
       "</style>\n",
       "<table border=\"1\" class=\"dataframe\">\n",
       "  <thead>\n",
       "    <tr style=\"text-align: right;\">\n",
       "      <th></th>\n",
       "      <th>Time</th>\n",
       "      <th>Close</th>\n",
       "    </tr>\n",
       "  </thead>\n",
       "  <tbody>\n",
       "    <tr>\n",
       "      <th>0</th>\n",
       "      <td>2022-10-05 04:00:00</td>\n",
       "      <td>20125.50</td>\n",
       "    </tr>\n",
       "    <tr>\n",
       "      <th>1</th>\n",
       "      <td>2022-10-05 05:00:00</td>\n",
       "      <td>20203.75</td>\n",
       "    </tr>\n",
       "    <tr>\n",
       "      <th>2</th>\n",
       "      <td>2022-10-05 06:00:00</td>\n",
       "      <td>20259.97</td>\n",
       "    </tr>\n",
       "    <tr>\n",
       "      <th>3</th>\n",
       "      <td>2022-10-05 07:00:00</td>\n",
       "      <td>20232.74</td>\n",
       "    </tr>\n",
       "    <tr>\n",
       "      <th>4</th>\n",
       "      <td>2022-10-05 08:00:00</td>\n",
       "      <td>20140.14</td>\n",
       "    </tr>\n",
       "    <tr>\n",
       "      <th>...</th>\n",
       "      <td>...</td>\n",
       "      <td>...</td>\n",
       "    </tr>\n",
       "    <tr>\n",
       "      <th>195</th>\n",
       "      <td>2022-10-13 07:00:00</td>\n",
       "      <td>19003.60</td>\n",
       "    </tr>\n",
       "    <tr>\n",
       "      <th>196</th>\n",
       "      <td>2022-10-13 08:00:00</td>\n",
       "      <td>19009.90</td>\n",
       "    </tr>\n",
       "    <tr>\n",
       "      <th>197</th>\n",
       "      <td>2022-10-13 09:00:00</td>\n",
       "      <td>18991.75</td>\n",
       "    </tr>\n",
       "    <tr>\n",
       "      <th>198</th>\n",
       "      <td>2022-10-13 10:00:00</td>\n",
       "      <td>18689.23</td>\n",
       "    </tr>\n",
       "    <tr>\n",
       "      <th>199</th>\n",
       "      <td>2022-10-13 11:00:00</td>\n",
       "      <td>18783.68</td>\n",
       "    </tr>\n",
       "  </tbody>\n",
       "</table>\n",
       "<p>200 rows × 2 columns</p>\n",
       "</div>"
      ],
      "text/plain": [
       "                   Time     Close\n",
       "0   2022-10-05 04:00:00  20125.50\n",
       "1   2022-10-05 05:00:00  20203.75\n",
       "2   2022-10-05 06:00:00  20259.97\n",
       "3   2022-10-05 07:00:00  20232.74\n",
       "4   2022-10-05 08:00:00  20140.14\n",
       "..                  ...       ...\n",
       "195 2022-10-13 07:00:00  19003.60\n",
       "196 2022-10-13 08:00:00  19009.90\n",
       "197 2022-10-13 09:00:00  18991.75\n",
       "198 2022-10-13 10:00:00  18689.23\n",
       "199 2022-10-13 11:00:00  18783.68\n",
       "\n",
       "[200 rows x 2 columns]"
      ]
     },
     "execution_count": 18,
     "metadata": {},
     "output_type": "execute_result"
    }
   ],
   "source": []
  },
  {
   "cell_type": "code",
   "execution_count": 11,
   "id": "3a2cac32",
   "metadata": {},
   "outputs": [],
   "source": [
    "def applytechnicals(df):\n",
    "    df['FastSMA'] = df.Close.rolling(50).mean()\n",
    "    df['SlowSMA'] = df.Close.rolling(200).mean()"
   ]
  },
  {
   "cell_type": "code",
   "execution_count": 12,
   "id": "b61c7989",
   "metadata": {},
   "outputs": [],
   "source": [
    "def changepos(curr, order, buy=True):\n",
    "    if buy:\n",
    "        posframe.loc[posframe.Currency == curr, 'position'] = 1\n",
    "        posframe.loc[posframe.Currency == curr, 'quantity'] = float(order['executedQty'])\n",
    "    else:\n",
    "        posframe.loc[posframe.Currency == curr, 'position'] = 0\n",
    "        posframe.loc[posframe.Currency == curr, 'quantity'] = 0\n",
    "\n",
    "    posframe.to_csv('positioncheck', index=False)\n"
   ]
  },
  {
   "cell_type": "code",
   "execution_count": 22,
   "id": "5f25a0f6",
   "metadata": {},
   "outputs": [],
   "source": [
    "def trader():\n",
    "\n",
    "    # check open positions and SELL if conditions are fulfilled \n",
    "    for coin in posframe[posframe.position == 1].Currency:\n",
    "        df = getdata(coin)\n",
    "        applytechnicals(df)\n",
    "        lastrow = df.iloc[-1]\n",
    "        if lastrow.SlowSMA > lastrow.FastSMA:\n",
    "            order = client.create_order(symbol=coin,\n",
    "                                        side='SELL',\n",
    "                                        type='MARKET',\n",
    "                                        quantity = posframe[posframe.Currency == coin].quantity.values[0])\n",
    "            changepos(coin,order,buy=False)\n",
    "            \n",
    "            #add new row to end of DataFrame\n",
    "            dforders.loc[len(dforders.index)] = [coin, order['price'], order['executedQty'], order['side'], order['transactTime']]\n",
    "            \n",
    "            print(order)\n",
    "            sendTelegramMessage(eExitTrade, order)\n",
    "            sendTelegramAlert(eExitTrade,\n",
    "                            order['transactTime'], \n",
    "                            order['symbol'], \n",
    "                            timeframe, \n",
    "                            \"SMA 50-200 CROSS\",\n",
    "                            order['side'],\n",
    "                            order['price'],\n",
    "                            order['executedQty'])\n",
    "\n",
    "    # check coins not in positions and BUY if conditions are fulfilled\n",
    "    for coin in posframe[posframe.position == 0].Currency:\n",
    "        df = getdata(coin)\n",
    "        applytechnicals(df)\n",
    "        lastrow = df.iloc[-1]\n",
    "        if lastrow.FastSMA > lastrow.SlowSMA:\n",
    "            positionSize = calcPositionSize()\n",
    "            # print(\"positionSize: \", positionSize)\n",
    "            order = client.create_order(symbol=coin,\n",
    "                                        side='BUY',\n",
    "                                        type='MARKET',\n",
    "                                        quoteOrderQty = positionSize)\n",
    "            changepos(coin,order,buy=True)\n",
    "            \n",
    "            #add new row to end of DataFrame\n",
    "            dforders.loc[len(dforders.index)] = [coin, order['price'], order['executedQty'], order['side'], order['transactTime']]\n",
    "                      \n",
    "            print(order)\n",
    "            sendTelegramMessage(eEnterTrade, order)\n",
    "            sendTelegramAlert(eEnterTrade,\n",
    "                            order['transactTime'], \n",
    "                            order['symbol'], \n",
    "                            timeframe, \n",
    "                            \"SMA 50-200 CROSS\",\n",
    "                            order['side'],\n",
    "                            order['price'],\n",
    "                            order['executedQty'])\n",
    "        else:\n",
    "            print(f'Buying condition for {coin} is not fulfilled')\n"
   ]
  },
  {
   "cell_type": "code",
   "execution_count": 24,
   "id": "9613d324",
   "metadata": {},
   "outputs": [
    {
     "name": "stdout",
     "output_type": "stream",
     "text": [
      "Buying condition for BTCBUSD is not fulfilled\n",
      "Buying condition for ETHBUSD is not fulfilled\n",
      "Buying condition for BNBBUSD is not fulfilled\n",
      "Buying condition for SOLBUSD is not fulfilled\n",
      "Buying condition for MATICBUSD is not fulfilled\n",
      "Buying condition for FTTBUSD is not fulfilled\n"
     ]
    }
   ],
   "source": [
    "try:\n",
    "    # inform that is running\n",
    "    # now = datetime.now()\n",
    "    # dt_string = now.strftime(\"%d-%m-%Y %H:%M:%S\")\n",
    "    sendTelegramMessage(eStart,\"Binance Trader Bot - Started\")\n",
    "\n",
    "    trader()\n",
    "\n",
    "    # add orders to csv file\n",
    "    dforders.time = pd.to_datetime(dforders.time, unit='ms')\n",
    "    dforders.to_csv('orders', mode='a', index=False, header=False)\n",
    "\n",
    "    # inform that ended\n",
    "    sendTelegramMessage(eStop, \"Binance Trader Bot - Ended\")\n",
    "    \n",
    "except:\n",
    "    sendTelegramMessage(eWarning, \"Oops! \"+ str(sys.exc_info()[0])+ \" occurred.\")\n",
    "    print(\"Oops!\", sys.exc_info()[0], \"occurred.\")\n"
   ]
  }
 ],
 "metadata": {
  "kernelspec": {
   "display_name": "Python 3.10.8 64-bit",
   "language": "python",
   "name": "python3"
  },
  "language_info": {
   "codemirror_mode": {
    "name": "ipython",
    "version": 3
   },
   "file_extension": ".py",
   "mimetype": "text/x-python",
   "name": "python",
   "nbconvert_exporter": "python",
   "pygments_lexer": "ipython3",
   "version": "3.10.8"
  },
  "vscode": {
   "interpreter": {
    "hash": "9efd30ac83097849a1cefecda0defb2f2d2b3578887540b74ac70a9235b9978c"
   }
  }
 },
 "nbformat": 4,
 "nbformat_minor": 5
}
