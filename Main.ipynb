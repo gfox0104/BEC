{
 "cells": [
  {
   "cell_type": "code",
   "execution_count": 69,
   "id": "62b1b8de",
   "metadata": {},
   "outputs": [],
   "source": [
    "import os\n",
    "import pandas as pd\n",
    "from binance.client import Client\n",
    "from binance.exceptions import BinanceAPIException, BinanceOrderException\n",
    "import requests\n",
    "from datetime import datetime,timezone\n",
    "import time\n",
    "import sys"
   ]
  },
  {
   "cell_type": "code",
   "execution_count": 70,
   "id": "254e74af",
   "metadata": {},
   "outputs": [],
   "source": [
    "# create .bat file that will run python program"
   ]
  },
  {
   "cell_type": "code",
   "execution_count": 71,
   "id": "4d0a9d36",
   "metadata": {},
   "outputs": [],
   "source": [
    "#criar csv das orders\n",
    "# orders = client.get_all_orders(symbol='BTCBUSD', limit=1)\n",
    "# dforders = pd.DataFrame(orders)\n",
    "# # colunas a manter\n",
    "# col_keep = ['symbol','price','executedQty','side','time']\n",
    "# dforders = dforders[col_keep]\n",
    "# dforders.time = pd.to_datetime(dforders.time, unit='ms')\n",
    "# dforders.to_csv('orders.csv', mode='a', index=False, header=False)"
   ]
  },
  {
   "cell_type": "code",
   "execution_count": 72,
   "id": "f9ac0227",
   "metadata": {},
   "outputs": [],
   "source": [
    "# create initial csv with positions\n",
    "# posframe = pd.DataFrame(symbols)\n",
    "# posframe.columns = ['Currency']\n",
    "# posframe['position'] = 0\n",
    "# posframe['quantity'] = 0\n",
    "# posframe.to_csv('positioncheck', index=False)"
   ]
  },
  {
   "cell_type": "code",
   "execution_count": 73,
   "id": "bd7c4ebe",
   "metadata": {},
   "outputs": [],
   "source": [
    "# environment variables\n",
    "try:\n",
    "    # Binance\n",
    "    api_key = os.environ.get('binance_api')\n",
    "    # print(\"api_key: \", api_key)\n",
    "    api_secret = os.environ.get('binance_secret')\n",
    "    \n",
    "    # Telegram\n",
    "    telegramToken = os.environ.get('telegramToken') \n",
    "    telegram_chat_id = os.environ.get('telegram_chat_id')\n",
    "\n",
    "except KeyError: \n",
    "    print(\"Environment variable does not exist\")"
   ]
  },
  {
   "cell_type": "code",
   "execution_count": 74,
   "id": "d20691fb",
   "metadata": {},
   "outputs": [],
   "source": [
    "# read positions csv\n",
    "posframe = pd.read_csv('positioncheck')\n",
    "# posframe\n",
    "\n",
    "# read orders csv\n",
    "# we just want the header, there is no need to get all the existing orders.\n",
    "# at the end we will append the orders to the csv\n",
    "dforders = pd.read_csv('orders', nrows=0)\n",
    "# dforders"
   ]
  },
  {
   "cell_type": "code",
   "execution_count": 75,
   "id": "7235815f",
   "metadata": {},
   "outputs": [],
   "source": [
    "# constants\n",
    "\n",
    "# coins to trade\n",
    "symbols = ['BTCBUSD','ETHBUSD','BNBBUSD','SOLBUSD','MATICBUSD','FTTBUSD']\n",
    "\n",
    "# strategy\n",
    "timeframe = Client.KLINE_INTERVAL_1HOUR # \"1h\"\n",
    "\n",
    "# percentage of balance to open position for each trade - example 0.1 = 10%\n",
    "tradepercentage = float(\"0.002\")\n",
    "minPositionSize = 20 # minimum position size in usd\n",
    "# risk percentage per trade - example 0.01 = 1%\n",
    "risk = float(\"0.01\")\n",
    "\n",
    "# Telegram\n",
    "url = f\"https://api.telegram.org/bot{telegramToken}/getUpdates\"\n",
    "# print(requests.get(url).json())\n",
    "\n",
    "# emoji\n",
    "eStart   = u'\\U000025B6'\n",
    "eStop    = u'\\U000023F9'\n",
    "eWarning = u'\\U000026A0'\n",
    "eEnterTrade = u'\\U0001F91E' #crossfingers\n",
    "eExitTrade  = u'\\U0001F91E' #crossfingers\n",
    "eTradeWithProfit = u'\\U0001F44D' # thumbs up\n",
    "eTradeWithLoss   = u'\\U0001F44E' # thumbs down\n",
    "eInformation = u'\\U00002139'\n"
   ]
  },
  {
   "cell_type": "code",
   "execution_count": 76,
   "id": "035bba19",
   "metadata": {},
   "outputs": [],
   "source": [
    "def sendTelegramMessage(emoji, msg):\n",
    "    lmsg = emoji+\" \"+msg\n",
    "    url = f\"https://api.telegram.org/bot{telegramToken}/sendMessage?chat_id={telegram_chat_id}&text={lmsg}\"\n",
    "    requests.get(url).json() # this sends the message\n",
    "\n",
    "def sendTelegramAlert(emoji, date, coin, timeframe, strategy, ordertype, value, amount):\n",
    "    lmsg = emoji + \" \" + str(date) + \" - \" + coin + \" - \" + strategy + \" - \" + timeframe + \" - \" + ordertype + \" - \" + \"Value: \" + str(value) + \" - \" + \"Amount: \" + str(amount)\n",
    "    url = f\"https://api.telegram.org/bot{telegramToken}/sendMessage?chat_id={telegram_chat_id}&text={lmsg}\"\n",
    "    requests.get(url).json() # this sends the message"
   ]
  },
  {
   "cell_type": "code",
   "execution_count": 77,
   "id": "3edb3a06",
   "metadata": {},
   "outputs": [],
   "source": [
    "# def testTelegramMessages():\n",
    "    # sendTelegramMessage(eInformation,\" Environment variable does not exist\")\n",
    "# testTelegramMessages()"
   ]
  },
  {
   "cell_type": "code",
   "execution_count": 78,
   "id": "e0f78518",
   "metadata": {},
   "outputs": [],
   "source": [
    "# Binance Client\n",
    "client = Client(api_key, api_secret)"
   ]
  },
  {
   "cell_type": "code",
   "execution_count": 79,
   "id": "3de956c6",
   "metadata": {},
   "outputs": [],
   "source": [
    "def calcPositionSize():\n",
    "\n",
    "    # get balance from BUSD\n",
    "    stableBalance = client.get_asset_balance(asset='BUSD')['free']\n",
    "    stableBalance = float(stableBalance)\n",
    "    # print(stableBalance)\n",
    "\n",
    "    # calculate position size based on the percentage per trade\n",
    "    positionSize = stableBalance*tradepercentage \n",
    "    positionSize = round(positionSize, 8)\n",
    "    \n",
    "    if positionSize < minPositionSize:\n",
    "        positionSize = minPositionSize\n",
    "\n",
    "    # positionAmount = 10\n",
    "    return positionSize"
   ]
  },
  {
   "cell_type": "code",
   "execution_count": 80,
   "id": "65b0c174",
   "metadata": {},
   "outputs": [],
   "source": [
    "def getdata(symbol):\n",
    "    \n",
    "    frame = pd.DataFrame(client.get_historical_klines(symbol,\n",
    "                                                    timeframe,\n",
    "                                                    '200 hour ago UTC'))\n",
    "\n",
    "    frame = frame[[0,4]]\n",
    "    frame.columns = ['Time','Close']\n",
    "    frame.Close = frame.Close.astype(float)\n",
    "    frame.Time = pd.to_datetime(frame.Time, unit='ms')\n",
    "    return frame"
   ]
  },
  {
   "cell_type": "code",
   "execution_count": null,
   "id": "37f2f3ad",
   "metadata": {},
   "outputs": [],
   "source": []
  },
  {
   "cell_type": "code",
   "execution_count": 81,
   "id": "3a2cac32",
   "metadata": {},
   "outputs": [],
   "source": [
    "def applytechnicals(df):\n",
    "    df['FastSMA'] = df.Close.rolling(50).mean()\n",
    "    df['SlowSMA'] = df.Close.rolling(200).mean()"
   ]
  },
  {
   "cell_type": "code",
   "execution_count": 82,
   "id": "b61c7989",
   "metadata": {},
   "outputs": [],
   "source": [
    "def changepos(curr, order, buy=True):\n",
    "    if buy:\n",
    "        posframe.loc[posframe.Currency == curr, 'position'] = 1\n",
    "        posframe.loc[posframe.Currency == curr, 'quantity'] = float(order['executedQty'])\n",
    "    else:\n",
    "        posframe.loc[posframe.Currency == curr, 'position'] = 0\n",
    "        posframe.loc[posframe.Currency == curr, 'quantity'] = 0\n",
    "\n",
    "    posframe.to_csv('positioncheck', index=False)\n"
   ]
  },
  {
   "cell_type": "code",
   "execution_count": 83,
   "id": "5f25a0f6",
   "metadata": {},
   "outputs": [],
   "source": [
    "def trader():\n",
    "\n",
    "    # check open positions and SELL if conditions are fulfilled \n",
    "    for coin in posframe[posframe.position == 1].Currency:\n",
    "        df = getdata(coin)\n",
    "        applytechnicals(df)\n",
    "        lastrow = df.iloc[-1]\n",
    "        if lastrow.SlowSMA > lastrow.FastSMA:\n",
    "            order = client.create_order(symbol=coin,\n",
    "                                        side=Client.SIDE_SELL,\n",
    "                                        type=Client.ORDER_TYPE_MARKET,\n",
    "                                        quantity = posframe[posframe.Currency == coin].quantity.values[0])\n",
    "            changepos(coin,order,buy=False)\n",
    "            \n",
    "            #add new row to end of DataFrame\n",
    "            dforders.loc[len(dforders.index)] = [coin, order['price'], order['executedQty'], order['side'], pd.to_datetime(order['transactTime'], unit='ms'),]\n",
    "            \n",
    "            # print(order)\n",
    "            # sendTelegramMessage(eExitTrade, order)\n",
    "            sendTelegramAlert(eExitTrade,\n",
    "                            # order['transactTime']\n",
    "                            pd.to_datetime(order['transactTime'], unit='ms'), \n",
    "                            order['symbol'], \n",
    "                            timeframe, \n",
    "                            \"SMA 50-200 CROSS\",\n",
    "                            order['side'],\n",
    "                            order['price'],\n",
    "                            order['executedQty'])\n",
    "\n",
    "    # check coins not in positions and BUY if conditions are fulfilled\n",
    "    for coin in posframe[posframe.position == 0].Currency:\n",
    "        df = getdata(coin)\n",
    "        applytechnicals(df)\n",
    "        lastrow = df.iloc[-1]\n",
    "        if lastrow.FastSMA > lastrow.SlowSMA:\n",
    "            positionSize = calcPositionSize()\n",
    "            # print(\"positionSize: \", positionSize)\n",
    "            order = client.create_order(symbol=coin,\n",
    "                                        side=Client.SIDE_BUY,\n",
    "                                        type=Client.ORDER_TYPE_MARKET,\n",
    "                                        quoteOrderQty = positionSize)\n",
    "            changepos(coin,order,buy=True)\n",
    "            \n",
    "            #add new row to end of DataFrame\n",
    "            dforders.loc[len(dforders.index)] = [coin, order['price'], order['executedQty'], order['side'], pd.to_datetime(order['transactTime'], unit='ms'),]\n",
    "                      \n",
    "            # print(order)\n",
    "            # sendTelegramMessage(eEnterTrade, order)\n",
    "            sendTelegramAlert(eEnterTrade,\n",
    "                            # order['transactTime'], \n",
    "                            pd.to_datetime(order['transactTime'], unit='ms'),\n",
    "                            order['symbol'], \n",
    "                            timeframe, \n",
    "                            \"SMA 50-200 CROSS\",\n",
    "                            order['side'],\n",
    "                            order['price'],\n",
    "                            order['executedQty'])\n",
    "        else:\n",
    "            print(f'Buying condition for {coin} is not fulfilled')\n"
   ]
  },
  {
   "cell_type": "code",
   "execution_count": 84,
   "id": "b920a722",
   "metadata": {},
   "outputs": [],
   "source": [
    "# qtd = posframe[posframe.Currency == 'BTCBUSD'].quantity.values[0]\n",
    "# qtd\n",
    "# qtd = 0.00054\n",
    "# order2 = client.create_order(symbol='BTCBUSD',\n",
    "#                                         side=Client.SIDE_SELL,\n",
    "#                                         type=Client.ORDER_TYPE_MARKET,\n",
    "#                                         quantity = qtd)\n",
    "# print(order2)"
   ]
  },
  {
   "cell_type": "code",
   "execution_count": 85,
   "id": "14b7bf84",
   "metadata": {},
   "outputs": [],
   "source": [
    "# MIN_NOTIONAL error\n",
    "# info = client.get_symbol_info('BTCBUSD')\n",
    "# print(info)\n",
    "# print(info['filters'][2]['minQty'])\n",
    "# 0.00001"
   ]
  },
  {
   "cell_type": "code",
   "execution_count": 86,
   "id": "9613d324",
   "metadata": {},
   "outputs": [
    {
     "name": "stdout",
     "output_type": "stream",
     "text": [
      "Buying condition for BTCBUSD is not fulfilled\n",
      "Buying condition for ETHBUSD is not fulfilled\n",
      "Buying condition for BNBBUSD is not fulfilled\n",
      "Buying condition for SOLBUSD is not fulfilled\n",
      "Buying condition for MATICBUSD is not fulfilled\n",
      "Buying condition for FTTBUSD is not fulfilled\n"
     ]
    }
   ],
   "source": [
    "try:\n",
    "    # inform that is running\n",
    "    # now = datetime.now()\n",
    "    # dt_string = now.strftime(\"%d-%m-%Y %H:%M:%S\")\n",
    "    sendTelegramMessage(eStart,\"Binance Trader Bot - Started\")\n",
    "\n",
    "    trader()\n",
    "\n",
    "    # add orders to csv file\n",
    "    dforders.time = pd.to_datetime(dforders.time, unit='ms')\n",
    "    dforders.to_csv('orders', mode='a', index=False, header=False)\n",
    "\n",
    "    # inform that ended\n",
    "    sendTelegramMessage(eStop, \"Binance Trader Bot - Ended\")\n",
    "    \n",
    "except BinanceAPIException as e:\n",
    "    print(e.status_code, e.message)\n",
    "    sendTelegramMessage(eWarning, \"Oops! Error code:\"+ str(e.status_code) + \" - \" + e.message)\n",
    "    sendTelegramMessage(eWarning, \"Oops! \"+ str(sys.exc_info()[0])+ \" occurred.\")\n",
    "    print(\"Oops!\", sys.exc_info()[0], \"occurred.\")\n",
    "except BinanceOrderException as e:\n",
    "    # error handling goes here\n",
    "    print(e)\n"
   ]
  }
 ],
 "metadata": {
  "interpreter": {
   "hash": "916dbcbb3f70747c44a77c7bcd40155683ae19c65e1c03b4aa3499c5328201f1"
  },
  "kernelspec": {
   "display_name": "Python 3.10.6 64-bit",
   "language": "python",
   "name": "python3"
  },
  "language_info": {
   "codemirror_mode": {
    "name": "ipython",
    "version": 3
   },
   "file_extension": ".py",
   "mimetype": "text/x-python",
   "name": "python",
   "nbconvert_exporter": "python",
   "pygments_lexer": "ipython3",
   "version": "3.10.6"
  },
  "vscode": {
   "interpreter": {
    "hash": "9efd30ac83097849a1cefecda0defb2f2d2b3578887540b74ac70a9235b9978c"
   }
  }
 },
 "nbformat": 4,
 "nbformat_minor": 5
}
